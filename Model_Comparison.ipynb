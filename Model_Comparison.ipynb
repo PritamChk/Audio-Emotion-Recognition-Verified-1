{
 "cells": [
  {
   "cell_type": "markdown",
   "metadata": {},
   "source": [
    "# Importing Libraries"
   ]
  },
  {
   "cell_type": "code",
   "execution_count": 1,
   "metadata": {},
   "outputs": [],
   "source": [
    "from sklearn.preprocessing import StandardScaler, OneHotEncoder\n",
    "from sklearn.metrics import confusion_matrix, classification_report\n",
    "\n",
    "import seaborn as sns\n",
    "\n",
    "from tqdm.notebook import tqdm_notebook as prog_bar\n",
    "from tensorflow.keras.models import load_model\n",
    "\n",
    "\n",
    "import os \n",
    "import sys\n",
    "import numpy as np\n",
    "import pandas as pd\n",
    "\n",
    "import warnings\n",
    "if not sys.warnoptions:\n",
    "    warnings.simplefilter(\"ignore\")\n",
    "warnings.filterwarnings(\"ignore\", category=DeprecationWarning)"
   ]
  },
  {
   "cell_type": "markdown",
   "metadata": {},
   "source": [
    "---\n",
    "# Loading model folders in a List\n",
    "---"
   ]
  },
  {
   "cell_type": "code",
   "execution_count": 8,
   "metadata": {},
   "outputs": [
    {
     "data": {
      "text/plain": [
       "['model_1',\n",
       " 'model_2',\n",
       " 'model_3',\n",
       " 'model_4',\n",
       " 'model_5',\n",
       " 'model_6',\n",
       " 'simple@model_1',\n",
       " 'simple@model_2',\n",
       " 'simple@model_3']"
      ]
     },
     "execution_count": 8,
     "metadata": {},
     "output_type": "execute_result"
    }
   ],
   "source": [
    "MODEL_BASE_PATH = os.path.abspath('Models')\n",
    "model_folders = os.listdir(MODEL_BASE_PATH)\n",
    "model_folders = [f for f in model_folders if os.path.isdir(os.path.join(MODEL_BASE_PATH,f))]\n",
    "model_folders"
   ]
  },
  {
   "cell_type": "code",
   "execution_count": 17,
   "metadata": {},
   "outputs": [
    {
     "data": {
      "application/vnd.jupyter.widget-view+json": {
       "model_id": "bc442a104ba74936b83ec6dd325e8740",
       "version_major": 2,
       "version_minor": 0
      },
      "text/plain": [
       "  0%|          | 0/9 [00:00<?, ?it/s]"
      ]
     },
     "metadata": {},
     "output_type": "display_data"
    }
   ],
   "source": [
    "models = []\n",
    "model_names = []\n",
    "for folder in prog_bar(model_folders,total = len(model_folders)):\n",
    "    for model_file in os.listdir(os.path.join(MODEL_BASE_PATH,folder)):\n",
    "        models.append(\n",
    "                load_model(\n",
    "                        os.path.join(MODEL_BASE_PATH,folder,model_file),\n",
    "                        compile=True\n",
    "                    )\n",
    "            )\n",
    "        model_names.append(model_file)"
   ]
  },
  {
   "cell_type": "code",
   "execution_count": 21,
   "metadata": {},
   "outputs": [
    {
     "data": {
      "text/plain": [
       "['model_1_50_50.h5',\n",
       " 'model_1_60_40.h5',\n",
       " 'model_1_75_25.h5',\n",
       " 'model_1_80_20.h5',\n",
       " 'model_2_50_50.h5',\n",
       " 'model_2_60_40.h5',\n",
       " 'model_2_75_25.h5',\n",
       " 'model_2_80_20.h5',\n",
       " 'model_3_50_50.h5',\n",
       " 'model_3_60_40.h5',\n",
       " 'model_3_75_25.h5',\n",
       " 'model_3_80_20.h5',\n",
       " 'model_4_50_50.h5',\n",
       " 'model_4_60_40.h5',\n",
       " 'model_4_75_25.h5',\n",
       " 'model_4_80_20.h5',\n",
       " 'model_5_50_50.h5',\n",
       " 'model_5_60_40.h5',\n",
       " 'model_5_75_25.h5',\n",
       " 'model_5_80_20.h5',\n",
       " 'model_6_50_50.h5',\n",
       " 'model_6_60_40.h5',\n",
       " 'model_6_75_25.h5',\n",
       " 'model_6_80_20.h5',\n",
       " 'simple@model_1_50_50.h5',\n",
       " 'simple@model_1_60_40.h5',\n",
       " 'simple@model_1_75_25.h5',\n",
       " 'simple@model_1_80_20.h5',\n",
       " 'simple@model_2_50_50.h5',\n",
       " 'simple@model_2_60_40.h5',\n",
       " 'simple@model_2_75_25.h5',\n",
       " 'simple@model_2_80_20.h5',\n",
       " 'simple@model_3_50_50.h5',\n",
       " 'simple@model_3_60_40.h5',\n",
       " 'simple@model_3_75_25.h5',\n",
       " 'simple@model_3_80_20.h5']"
      ]
     },
     "execution_count": 21,
     "metadata": {},
     "output_type": "execute_result"
    }
   ],
   "source": [
    "model_names"
   ]
  },
  {
   "cell_type": "code",
   "execution_count": null,
   "metadata": {},
   "outputs": [],
   "source": []
  }
 ],
 "metadata": {
  "interpreter": {
   "hash": "25dd6ee6d223873db6918ba7dafc55ff354bee08d0006ede29dd28bdf8c1bd1c"
  },
  "kernelspec": {
   "display_name": "Python 3.9.5 64-bit ('base': conda)",
   "language": "python",
   "name": "python3"
  },
  "language_info": {
   "codemirror_mode": {
    "name": "ipython",
    "version": 3
   },
   "file_extension": ".py",
   "mimetype": "text/x-python",
   "name": "python",
   "nbconvert_exporter": "python",
   "pygments_lexer": "ipython3",
   "version": "3.9.5"
  },
  "orig_nbformat": 4
 },
 "nbformat": 4,
 "nbformat_minor": 2
}
