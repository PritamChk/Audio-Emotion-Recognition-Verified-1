{
 "cells": [
  {
   "cell_type": "code",
   "execution_count": 1,
   "metadata": {},
   "outputs": [],
   "source": [
    "import pandas as pd\n",
    "import os \n",
    "import numpy as np\n",
    "import matplotlib.pyplot as plt"
   ]
  },
  {
   "cell_type": "code",
   "execution_count": 2,
   "metadata": {},
   "outputs": [],
   "source": [
    "%matplotlib inline"
   ]
  },
  {
   "cell_type": "code",
   "execution_count": 3,
   "metadata": {},
   "outputs": [
    {
     "data": {
      "text/html": [
       "<div>\n",
       "<style scoped>\n",
       "    .dataframe tbody tr th:only-of-type {\n",
       "        vertical-align: middle;\n",
       "    }\n",
       "\n",
       "    .dataframe tbody tr th {\n",
       "        vertical-align: top;\n",
       "    }\n",
       "\n",
       "    .dataframe thead th {\n",
       "        text-align: right;\n",
       "    }\n",
       "</style>\n",
       "<table border=\"1\" class=\"dataframe\">\n",
       "  <thead>\n",
       "    <tr style=\"text-align: right;\">\n",
       "      <th></th>\n",
       "      <th>0</th>\n",
       "      <th>1</th>\n",
       "      <th>2</th>\n",
       "      <th>3</th>\n",
       "      <th>4</th>\n",
       "      <th>5</th>\n",
       "      <th>6</th>\n",
       "      <th>7</th>\n",
       "      <th>8</th>\n",
       "      <th>9</th>\n",
       "      <th>...</th>\n",
       "      <th>153</th>\n",
       "      <th>154</th>\n",
       "      <th>155</th>\n",
       "      <th>156</th>\n",
       "      <th>157</th>\n",
       "      <th>158</th>\n",
       "      <th>159</th>\n",
       "      <th>160</th>\n",
       "      <th>161</th>\n",
       "      <th>labels</th>\n",
       "    </tr>\n",
       "  </thead>\n",
       "  <tbody>\n",
       "    <tr>\n",
       "      <th>0</th>\n",
       "      <td>0.300781</td>\n",
       "      <td>0.706492</td>\n",
       "      <td>0.756853</td>\n",
       "      <td>0.735217</td>\n",
       "      <td>0.731014</td>\n",
       "      <td>0.715156</td>\n",
       "      <td>0.667529</td>\n",
       "      <td>0.673754</td>\n",
       "      <td>0.722173</td>\n",
       "      <td>0.748969</td>\n",
       "      <td>...</td>\n",
       "      <td>0.000004</td>\n",
       "      <td>0.000003</td>\n",
       "      <td>2.153285e-06</td>\n",
       "      <td>0.000002</td>\n",
       "      <td>5.131693e-06</td>\n",
       "      <td>0.000008</td>\n",
       "      <td>0.000005</td>\n",
       "      <td>2.270858e-06</td>\n",
       "      <td>1.642365e-07</td>\n",
       "      <td>neutral</td>\n",
       "    </tr>\n",
       "    <tr>\n",
       "      <th>1</th>\n",
       "      <td>0.177941</td>\n",
       "      <td>0.666223</td>\n",
       "      <td>0.739900</td>\n",
       "      <td>0.736050</td>\n",
       "      <td>0.716271</td>\n",
       "      <td>0.731358</td>\n",
       "      <td>0.682439</td>\n",
       "      <td>0.657732</td>\n",
       "      <td>0.707099</td>\n",
       "      <td>0.744029</td>\n",
       "      <td>...</td>\n",
       "      <td>0.000002</td>\n",
       "      <td>0.000002</td>\n",
       "      <td>8.686418e-07</td>\n",
       "      <td>0.000001</td>\n",
       "      <td>2.447462e-06</td>\n",
       "      <td>0.000004</td>\n",
       "      <td>0.000003</td>\n",
       "      <td>1.086569e-06</td>\n",
       "      <td>9.836941e-08</td>\n",
       "      <td>neutral</td>\n",
       "    </tr>\n",
       "    <tr>\n",
       "      <th>2</th>\n",
       "      <td>0.184796</td>\n",
       "      <td>0.650088</td>\n",
       "      <td>0.705284</td>\n",
       "      <td>0.766884</td>\n",
       "      <td>0.740786</td>\n",
       "      <td>0.715097</td>\n",
       "      <td>0.685506</td>\n",
       "      <td>0.656952</td>\n",
       "      <td>0.712487</td>\n",
       "      <td>0.744546</td>\n",
       "      <td>...</td>\n",
       "      <td>0.000002</td>\n",
       "      <td>0.000002</td>\n",
       "      <td>1.663092e-06</td>\n",
       "      <td>0.000001</td>\n",
       "      <td>8.168943e-07</td>\n",
       "      <td>0.000002</td>\n",
       "      <td>0.000002</td>\n",
       "      <td>8.497095e-07</td>\n",
       "      <td>4.750486e-08</td>\n",
       "      <td>neutral</td>\n",
       "    </tr>\n",
       "    <tr>\n",
       "      <th>3</th>\n",
       "      <td>0.271272</td>\n",
       "      <td>0.674966</td>\n",
       "      <td>0.723259</td>\n",
       "      <td>0.724594</td>\n",
       "      <td>0.681302</td>\n",
       "      <td>0.670643</td>\n",
       "      <td>0.674574</td>\n",
       "      <td>0.630036</td>\n",
       "      <td>0.680146</td>\n",
       "      <td>0.708276</td>\n",
       "      <td>...</td>\n",
       "      <td>0.000007</td>\n",
       "      <td>0.000007</td>\n",
       "      <td>6.670963e-06</td>\n",
       "      <td>0.000007</td>\n",
       "      <td>1.217880e-05</td>\n",
       "      <td>0.000009</td>\n",
       "      <td>0.000008</td>\n",
       "      <td>2.638513e-06</td>\n",
       "      <td>1.788902e-07</td>\n",
       "      <td>neutral</td>\n",
       "    </tr>\n",
       "    <tr>\n",
       "      <th>4</th>\n",
       "      <td>0.162337</td>\n",
       "      <td>0.676735</td>\n",
       "      <td>0.724574</td>\n",
       "      <td>0.675516</td>\n",
       "      <td>0.652425</td>\n",
       "      <td>0.669790</td>\n",
       "      <td>0.672848</td>\n",
       "      <td>0.639590</td>\n",
       "      <td>0.692490</td>\n",
       "      <td>0.726597</td>\n",
       "      <td>...</td>\n",
       "      <td>0.000004</td>\n",
       "      <td>0.000003</td>\n",
       "      <td>3.211225e-06</td>\n",
       "      <td>0.000003</td>\n",
       "      <td>5.545815e-06</td>\n",
       "      <td>0.000005</td>\n",
       "      <td>0.000004</td>\n",
       "      <td>1.156502e-06</td>\n",
       "      <td>7.604100e-08</td>\n",
       "      <td>neutral</td>\n",
       "    </tr>\n",
       "  </tbody>\n",
       "</table>\n",
       "<p>5 rows × 163 columns</p>\n",
       "</div>"
      ],
      "text/plain": [
       "          0         1         2         3         4         5         6  \\\n",
       "0  0.300781  0.706492  0.756853  0.735217  0.731014  0.715156  0.667529   \n",
       "1  0.177941  0.666223  0.739900  0.736050  0.716271  0.731358  0.682439   \n",
       "2  0.184796  0.650088  0.705284  0.766884  0.740786  0.715097  0.685506   \n",
       "3  0.271272  0.674966  0.723259  0.724594  0.681302  0.670643  0.674574   \n",
       "4  0.162337  0.676735  0.724574  0.675516  0.652425  0.669790  0.672848   \n",
       "\n",
       "          7         8         9  ...       153       154           155  \\\n",
       "0  0.673754  0.722173  0.748969  ...  0.000004  0.000003  2.153285e-06   \n",
       "1  0.657732  0.707099  0.744029  ...  0.000002  0.000002  8.686418e-07   \n",
       "2  0.656952  0.712487  0.744546  ...  0.000002  0.000002  1.663092e-06   \n",
       "3  0.630036  0.680146  0.708276  ...  0.000007  0.000007  6.670963e-06   \n",
       "4  0.639590  0.692490  0.726597  ...  0.000004  0.000003  3.211225e-06   \n",
       "\n",
       "        156           157       158       159           160           161  \\\n",
       "0  0.000002  5.131693e-06  0.000008  0.000005  2.270858e-06  1.642365e-07   \n",
       "1  0.000001  2.447462e-06  0.000004  0.000003  1.086569e-06  9.836941e-08   \n",
       "2  0.000001  8.168943e-07  0.000002  0.000002  8.497095e-07  4.750486e-08   \n",
       "3  0.000007  1.217880e-05  0.000009  0.000008  2.638513e-06  1.788902e-07   \n",
       "4  0.000003  5.545815e-06  0.000005  0.000004  1.156502e-06  7.604100e-08   \n",
       "\n",
       "    labels  \n",
       "0  neutral  \n",
       "1  neutral  \n",
       "2  neutral  \n",
       "3  neutral  \n",
       "4  neutral  \n",
       "\n",
       "[5 rows x 163 columns]"
      ]
     },
     "execution_count": 3,
     "metadata": {},
     "output_type": "execute_result"
    }
   ],
   "source": [
    "dataset = os.path.abspath('features_org_stretch_pitch.csv')\n",
    "Main_Df = pd.read_csv(dataset,index_col=False)\n",
    "Main_Df.head()"
   ]
  },
  {
   "cell_type": "code",
   "execution_count": 4,
   "metadata": {},
   "outputs": [],
   "source": [
    "X,Y = Main_Df.iloc[:,:-1],Main_Df['labels']"
   ]
  },
  {
   "cell_type": "code",
   "execution_count": 5,
   "metadata": {},
   "outputs": [],
   "source": [
    "from sklearn.model_selection import train_test_split as spliter\n",
    "x_train , x_test, y_train, y_test = spliter(X,Y,test_size=.2,random_state=13)"
   ]
  },
  {
   "cell_type": "code",
   "execution_count": 6,
   "metadata": {},
   "outputs": [
    {
     "data": {
      "text/plain": [
       "((3456, 162), (3456,), (864, 162), (864,))"
      ]
     },
     "execution_count": 6,
     "metadata": {},
     "output_type": "execute_result"
    }
   ],
   "source": [
    "x_train.shape,y_train.shape , x_test.shape, y_test.shape"
   ]
  },
  {
   "cell_type": "code",
   "execution_count": 22,
   "metadata": {},
   "outputs": [],
   "source": [
    "from sklearn.svm import SVC as SVM\n",
    "\n",
    "model = SVM(C=100,verbose=1)\n",
    "# model_2 = SVM_2()"
   ]
  },
  {
   "cell_type": "code",
   "execution_count": 23,
   "metadata": {},
   "outputs": [
    {
     "name": "stdout",
     "output_type": "stream",
     "text": [
      "[LibSVM]"
     ]
    },
    {
     "data": {
      "text/plain": [
       "SVC(C=100, verbose=1)"
      ]
     },
     "execution_count": 23,
     "metadata": {},
     "output_type": "execute_result"
    }
   ],
   "source": [
    "model.fit(x_train,y_train)"
   ]
  },
  {
   "cell_type": "code",
   "execution_count": 24,
   "metadata": {},
   "outputs": [
    {
     "data": {
      "text/plain": [
       "0.5034722222222222"
      ]
     },
     "execution_count": 24,
     "metadata": {},
     "output_type": "execute_result"
    }
   ],
   "source": [
    "model.score(x_test,y_test)"
   ]
  },
  {
   "cell_type": "markdown",
   "metadata": {},
   "source": [
    "# Conclusion - We can reach upto 50% Acc. using SVM"
   ]
  },
  {
   "cell_type": "code",
   "execution_count": null,
   "metadata": {},
   "outputs": [],
   "source": []
  }
 ],
 "metadata": {
  "interpreter": {
   "hash": "25dd6ee6d223873db6918ba7dafc55ff354bee08d0006ede29dd28bdf8c1bd1c"
  },
  "kernelspec": {
   "display_name": "Python 3.9.5 64-bit ('base': conda)",
   "language": "python",
   "name": "python3"
  },
  "language_info": {
   "codemirror_mode": {
    "name": "ipython",
    "version": 3
   },
   "file_extension": ".py",
   "mimetype": "text/x-python",
   "name": "python",
   "nbconvert_exporter": "python",
   "pygments_lexer": "ipython3",
   "version": "3.9.5"
  },
  "orig_nbformat": 4
 },
 "nbformat": 4,
 "nbformat_minor": 2
}
