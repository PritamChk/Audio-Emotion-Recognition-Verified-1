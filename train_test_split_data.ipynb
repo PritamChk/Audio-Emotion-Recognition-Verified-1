{
 "cells": [
  {
   "cell_type": "code",
   "execution_count": 6,
   "metadata": {},
   "outputs": [],
   "source": [
    "import pandas as pd\n",
    "from sklearn.model_selection import train_test_split\n",
    "\n",
    "import os"
   ]
  },
  {
   "cell_type": "code",
   "execution_count": 7,
   "metadata": {},
   "outputs": [],
   "source": [
    "feature_file= os.path.abspath('features_org_stretch_pitch.csv')\n",
    "feature_df = pd.read_csv(feature_file,index_col=False)"
   ]
  },
  {
   "cell_type": "code",
   "execution_count": 8,
   "metadata": {},
   "outputs": [
    {
     "data": {
      "text/plain": [
       "(array([[3.00781250e-01, 7.06492245e-01, 7.56852806e-01, ...,\n",
       "         5.37526876e-06, 2.27085820e-06, 1.64236539e-07],\n",
       "        [1.77940538e-01, 6.66222930e-01, 7.39900291e-01, ...,\n",
       "         2.70506325e-06, 1.08656866e-06, 9.83694051e-08],\n",
       "        [1.84796369e-01, 6.50087893e-01, 7.05284417e-01, ...,\n",
       "         2.49909181e-06, 8.49709522e-07, 4.75048587e-08],\n",
       "        ...,\n",
       "        [2.15621383e-01, 6.76596165e-01, 6.14103734e-01, ...,\n",
       "         1.92967604e-03, 5.23758994e-04, 4.04801503e-05],\n",
       "        [1.83311632e-01, 6.68179870e-01, 6.06806219e-01, ...,\n",
       "         7.94242893e-04, 2.35575164e-04, 1.95215980e-05],\n",
       "        [1.85998987e-01, 7.03913391e-01, 6.61699772e-01, ...,\n",
       "         9.65747167e-04, 3.01387161e-04, 1.64965659e-05]]),\n",
       " array(['neutral', 'neutral', 'neutral', ..., 'surprised', 'surprised',\n",
       "        'surprised'], dtype=object))"
      ]
     },
     "execution_count": 8,
     "metadata": {},
     "output_type": "execute_result"
    }
   ],
   "source": [
    "X = feature_df.iloc[: ,:-1].values\n",
    "Y = feature_df['labels'].values\n",
    "X,Y"
   ]
  },
  {
   "cell_type": "code",
   "execution_count": 9,
   "metadata": {},
   "outputs": [
    {
     "name": "stdout",
     "output_type": "stream",
     "text": [
      "(3456, 162) (3456,) (864, 162) (864,)\n",
      "tts_train_80_20.csv\n",
      "tts_test_80_20.csv\n",
      "(3240, 162) (3240,) (1080, 162) (1080,)\n",
      "tts_train_75_25.csv\n",
      "tts_test_75_25.csv\n",
      "(2592, 162) (2592,) (1728, 162) (1728,)\n",
      "tts_train_60_40.csv\n",
      "tts_test_60_40.csv\n",
      "(2160, 162) (2160,) (2160, 162) (2160,)\n",
      "tts_train_50_50.csv\n",
      "tts_test_50_50.csv\n"
     ]
    }
   ],
   "source": [
    "rs = 13\n",
    "\n",
    "test_data_percentage = [.2,.25,.4,.5]\n",
    "\n",
    "base_dir = os.path.abspath('Train_Test_Data_Splits')\n",
    "base_filename = 'tts_'\n",
    "extension = '.csv'\n",
    "\n",
    "for per in test_data_percentage:\n",
    "    x_train, x_test,y_train, y_test = train_test_split(X,\n",
    "                                           Y,\n",
    "                                           shuffle=True,\n",
    "                                           test_size=per,\n",
    "                                           random_state=rs)\n",
    "    \n",
    "    print(x_train.shape,y_train.shape,x_test.shape,y_test.shape)\n",
    "    \n",
    "    train_df = pd.DataFrame(x_train)\n",
    "    train_df['Y_train'] = y_train\n",
    "    \n",
    "    filename = base_filename+ 'train_' +str(round((1-per)*100))+\"_\"+str(round(per*100))+extension\n",
    "    print(filename)\n",
    "    train_df.to_csv(os.path.join(base_dir,filename),index=False)\n",
    "    del filename\n",
    "    \n",
    "    test_df = pd.DataFrame(x_test)\n",
    "    test_df['Y_test'] = y_test\n",
    "    \n",
    "    filename = base_filename+ 'test_' +str(round((1-per)*100))+\"_\"+str(round(per*100))+extension\n",
    "    print(filename)\n",
    "    test_df.to_csv(os.path.join(base_dir,filename),index=False)\n",
    "    del filename\n",
    "    \n",
    "    del x_train\n",
    "    del x_test\n",
    "    del y_train\n",
    "    del y_test\n",
    "        "
   ]
  },
  {
   "cell_type": "code",
   "execution_count": null,
   "metadata": {},
   "outputs": [],
   "source": []
  }
 ],
 "metadata": {
  "interpreter": {
   "hash": "25dd6ee6d223873db6918ba7dafc55ff354bee08d0006ede29dd28bdf8c1bd1c"
  },
  "kernelspec": {
   "display_name": "Python 3.9.5 64-bit ('base': conda)",
   "language": "python",
   "name": "python3"
  },
  "language_info": {
   "codemirror_mode": {
    "name": "ipython",
    "version": 3
   },
   "file_extension": ".py",
   "mimetype": "text/x-python",
   "name": "python",
   "nbconvert_exporter": "python",
   "pygments_lexer": "ipython3",
   "version": "3.9.5"
  },
  "orig_nbformat": 4
 },
 "nbformat": 4,
 "nbformat_minor": 2
}
