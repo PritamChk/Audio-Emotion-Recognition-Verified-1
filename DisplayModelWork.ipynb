{
 "cells": [
  {
   "cell_type": "code",
   "execution_count": 1,
   "metadata": {},
   "outputs": [],
   "source": [
    "from easygui import fileopenbox\n",
    "from librosa import load\n",
    "import os\n",
    "import winsound"
   ]
  },
  {
   "cell_type": "markdown",
   "metadata": {},
   "source": [
    "## Selecting the audio file manually\n",
    "\n",
    "---"
   ]
  },
  {
   "cell_type": "code",
   "execution_count": 2,
   "metadata": {},
   "outputs": [],
   "source": [
    "default_path_to_dataset = os.path.abspath(os.path.join(\"Datasets\",\"RAVDESS_DATASET\"))\n",
    "choosen_path = fileopenbox(msg=\"Choose a voice sample\",title=\"Test Audio Selector\",default=default_path_to_dataset,filetypes=\"*.wav\")"
   ]
  },
  {
   "cell_type": "markdown",
   "metadata": {},
   "source": [
    "## Play The Selected Audio"
   ]
  },
  {
   "cell_type": "code",
   "execution_count": 3,
   "metadata": {},
   "outputs": [],
   "source": [
    "winsound.PlaySound(choosen_path,winsound.SND_FILENAME)"
   ]
  },
  {
   "cell_type": "markdown",
   "metadata": {},
   "source": [
    "# Extract The Original Emotion Details from File Name\n",
    "---"
   ]
  },
  {
   "cell_type": "code",
   "execution_count": 4,
   "metadata": {},
   "outputs": [],
   "source": [
    "emotion_dictionary = {\n",
    "        1:'neutral',\n",
    "        2:'calm',\n",
    "        3:'happy',\n",
    "        4:'sad',\n",
    "        5:'angry',\n",
    "        6:'fearful',\n",
    "        7:'disgust',\n",
    "        8:'surprised'\n",
    "    }"
   ]
  },
  {
   "cell_type": "code",
   "execution_count": 5,
   "metadata": {},
   "outputs": [],
   "source": [
    "def find_emotion(filename):\n",
    "    \"\"\"\n",
    "        @filename : taking the voice input filename \n",
    "        \n",
    "        @returning emotion code by extracting it \n",
    "    \"\"\"\n",
    "    parta,_ = filename.split('.')\n",
    "    codes = parta.split('-')\n",
    "    #print(*codes)\n",
    "    return int(codes[2])"
   ]
  },
  {
   "cell_type": "code",
   "execution_count": 6,
   "metadata": {},
   "outputs": [
    {
     "name": "stdout",
     "output_type": "stream",
     "text": [
      "calm\n"
     ]
    }
   ],
   "source": [
    "file_name = choosen_path.split(\"\\\\\")[-1]\n",
    "original_emotion = find_emotion(file_name)\n",
    "print(emotion_dictionary[original_emotion])"
   ]
  },
  {
   "cell_type": "markdown",
   "metadata": {},
   "source": [
    "## Encoding Categories\n",
    "---"
   ]
  },
  {
   "cell_type": "code",
   "execution_count": 31,
   "metadata": {},
   "outputs": [],
   "source": [
    "from sklearn.preprocessing import OneHotEncoder\n",
    "from tensorflow.keras.models import load_model\n",
    "import numpy as np"
   ]
  },
  {
   "cell_type": "code",
   "execution_count": 32,
   "metadata": {},
   "outputs": [
    {
     "name": "stdout",
     "output_type": "stream",
     "text": [
      "[['neutral']\n",
      " ['calm']\n",
      " ['happy']\n",
      " ['sad']\n",
      " ['angry']\n",
      " ['fearful']\n",
      " ['disgust']\n",
      " ['surprised']]\n"
     ]
    },
    {
     "data": {
      "text/plain": [
       "array(['x0_angry', 'x0_calm', 'x0_disgust', 'x0_fearful', 'x0_happy',\n",
       "       'x0_neutral', 'x0_sad', 'x0_surprised'], dtype=object)"
      ]
     },
     "execution_count": 32,
     "metadata": {},
     "output_type": "execute_result"
    }
   ],
   "source": [
    "categories = np.array(list(emotion_dictionary.values())).reshape(-1,1)\n",
    "print(categories)\n",
    "Ohe = OneHotEncoder(handle_unknown=\"ignore\")\n",
    "v = Ohe.fit_transform(categories).toarray()\n",
    "Ohe.get_feature_names_out()"
   ]
  },
  {
   "cell_type": "code",
   "execution_count": 33,
   "metadata": {},
   "outputs": [
    {
     "name": "stdout",
     "output_type": "stream",
     "text": [
      "[[0. 0. 0. 0. 0. 1. 0. 0.]\n",
      " [0. 1. 0. 0. 0. 0. 0. 0.]\n",
      " [0. 0. 0. 0. 1. 0. 0. 0.]\n",
      " [0. 0. 0. 0. 0. 0. 1. 0.]\n",
      " [1. 0. 0. 0. 0. 0. 0. 0.]\n",
      " [0. 0. 0. 1. 0. 0. 0. 0.]\n",
      " [0. 0. 1. 0. 0. 0. 0. 0.]\n",
      " [0. 0. 0. 0. 0. 0. 0. 1.]]\n"
     ]
    }
   ],
   "source": [
    "print(v)"
   ]
  },
  {
   "cell_type": "markdown",
   "metadata": {},
   "source": [
    "# Extracting The Features of the selected Audio \n",
    "-----"
   ]
  },
  {
   "cell_type": "markdown",
   "metadata": {},
   "source": [
    "### Feature Extraction Function\n",
    "\n",
    "----"
   ]
  },
  {
   "cell_type": "code",
   "execution_count": 34,
   "metadata": {},
   "outputs": [],
   "source": [
    "import librosa\n",
    "import numpy as np"
   ]
  },
  {
   "cell_type": "code",
   "execution_count": 35,
   "metadata": {},
   "outputs": [],
   "source": [
    "def extract_features(file_path):\n",
    "    data,sample_rate = load(file_path,duration = 2.5) \n",
    "    # ZCR\n",
    "    result = np.array([])\n",
    "    zcr = np.mean(librosa.feature.zero_crossing_rate(y=data).T, axis=0)\n",
    "    result=np.hstack((result, zcr)) # stacking horizontally\n",
    "\n",
    "    # Chroma_stft\n",
    "    stft = np.abs(librosa.stft(data))\n",
    "    chroma_stft = np.mean(librosa.feature.chroma_stft(S=stft, sr=sample_rate).T, axis=0)\n",
    "    result = np.hstack((result, chroma_stft)) # stacking horizontally\n",
    "\n",
    "    # MFCC\n",
    "    mfcc = np.mean(librosa.feature.mfcc(y=data, sr=sample_rate).T, axis=0)\n",
    "    result = np.hstack((result, mfcc)) # stacking horizontally\n",
    "\n",
    "    # Root Mean Square Value\n",
    "    rms = np.mean(librosa.feature.rms(y=data).T, axis=0)\n",
    "    result = np.hstack((result, rms)) # stacking horizontally\n",
    "\n",
    "    # MelSpectogram\n",
    "    mel = np.mean(librosa.feature.melspectrogram(y=data, sr=sample_rate).T, axis=0)\n",
    "    result = np.hstack((result, mel)) # stacking horizontally\n",
    "    \n",
    "    return np.array(result)"
   ]
  },
  {
   "cell_type": "code",
   "execution_count": 36,
   "metadata": {},
   "outputs": [],
   "source": [
    "from sklearn.preprocessing import StandardScaler"
   ]
  },
  {
   "cell_type": "markdown",
   "metadata": {},
   "source": [
    "-----\n",
    "# Main Audio Feature Extraction\n",
    "----"
   ]
  },
  {
   "cell_type": "code",
   "execution_count": 37,
   "metadata": {},
   "outputs": [
    {
     "name": "stdout",
     "output_type": "stream",
     "text": [
      "(1, 162, 1)\n"
     ]
    }
   ],
   "source": [
    "aud_features = np.array(extract_features(choosen_path)).reshape(-1,1)\n",
    "# scaler = StandardScaler()\n",
    "# aud_features = scaler.fit_transform(aud_features)\n",
    "aud_features =aud_features.reshape(1,-1,1)\n",
    "aud_features\n",
    "print(aud_features.shape)"
   ]
  },
  {
   "cell_type": "markdown",
   "metadata": {},
   "source": [
    "# Select the model you want to use\n",
    "----"
   ]
  },
  {
   "cell_type": "code",
   "execution_count": 53,
   "metadata": {},
   "outputs": [],
   "source": [
    "model_path = fileopenbox(default=os.path.abspath(\"Models\"),filetypes=\"\\*.h5\")"
   ]
  },
  {
   "cell_type": "markdown",
   "metadata": {},
   "source": [
    "----\n",
    "### Loading the Model & Compiling it"
   ]
  },
  {
   "cell_type": "code",
   "execution_count": 54,
   "metadata": {},
   "outputs": [],
   "source": [
    "model = load_model(model_path)"
   ]
  },
  {
   "cell_type": "markdown",
   "metadata": {},
   "source": [
    "# Prediction"
   ]
  },
  {
   "cell_type": "code",
   "execution_count": 55,
   "metadata": {},
   "outputs": [
    {
     "data": {
      "text/plain": [
       "array([[0., 0., 0., 0., 0., 0., 1., 0.]], dtype=float32)"
      ]
     },
     "execution_count": 55,
     "metadata": {},
     "output_type": "execute_result"
    }
   ],
   "source": [
    "ans = model.predict(aud_features)\n",
    "ans"
   ]
  },
  {
   "cell_type": "markdown",
   "metadata": {},
   "source": [
    "----\n",
    "# Predicted Emotion\n",
    "----"
   ]
  },
  {
   "cell_type": "code",
   "execution_count": 56,
   "metadata": {},
   "outputs": [
    {
     "data": {
      "text/plain": [
       "'sad'"
      ]
     },
     "execution_count": 56,
     "metadata": {},
     "output_type": "execute_result"
    }
   ],
   "source": [
    "Ohe.inverse_transform(ans)[0][0]"
   ]
  },
  {
   "cell_type": "markdown",
   "metadata": {},
   "source": [
    "----------\n",
    "# Original Emotion Of the Same Audio\n",
    "----\n"
   ]
  },
  {
   "cell_type": "code",
   "execution_count": 57,
   "metadata": {},
   "outputs": [
    {
     "data": {
      "text/plain": [
       "'calm'"
      ]
     },
     "execution_count": 57,
     "metadata": {},
     "output_type": "execute_result"
    }
   ],
   "source": [
    "emotion_dictionary[original_emotion]"
   ]
  },
  {
   "cell_type": "markdown",
   "metadata": {},
   "source": [
    "# If Both Orignal and Prediction are Same or Not\n",
    "----"
   ]
  },
  {
   "cell_type": "code",
   "execution_count": 58,
   "metadata": {},
   "outputs": [
    {
     "data": {
      "text/plain": [
       "False"
      ]
     },
     "execution_count": 58,
     "metadata": {},
     "output_type": "execute_result"
    }
   ],
   "source": [
    "Ohe.inverse_transform(ans)[0][0] == emotion_dictionary[original_emotion]"
   ]
  },
  {
   "cell_type": "code",
   "execution_count": 59,
   "metadata": {},
   "outputs": [
    {
     "data": {
      "text/html": [
       "<div>\n",
       "<style scoped>\n",
       "    .dataframe tbody tr th:only-of-type {\n",
       "        vertical-align: middle;\n",
       "    }\n",
       "\n",
       "    .dataframe tbody tr th {\n",
       "        vertical-align: top;\n",
       "    }\n",
       "\n",
       "    .dataframe thead th {\n",
       "        text-align: right;\n",
       "    }\n",
       "</style>\n",
       "<table border=\"1\" class=\"dataframe\">\n",
       "  <thead>\n",
       "    <tr style=\"text-align: right;\">\n",
       "      <th></th>\n",
       "      <th>0</th>\n",
       "      <th>1</th>\n",
       "      <th>2</th>\n",
       "      <th>3</th>\n",
       "      <th>4</th>\n",
       "      <th>5</th>\n",
       "      <th>6</th>\n",
       "      <th>7</th>\n",
       "      <th>8</th>\n",
       "      <th>9</th>\n",
       "      <th>...</th>\n",
       "      <th>153</th>\n",
       "      <th>154</th>\n",
       "      <th>155</th>\n",
       "      <th>156</th>\n",
       "      <th>157</th>\n",
       "      <th>158</th>\n",
       "      <th>159</th>\n",
       "      <th>160</th>\n",
       "      <th>161</th>\n",
       "      <th>labels</th>\n",
       "    </tr>\n",
       "  </thead>\n",
       "  <tbody>\n",
       "    <tr>\n",
       "      <th>0</th>\n",
       "      <td>0.300184</td>\n",
       "      <td>0.738577</td>\n",
       "      <td>0.742603</td>\n",
       "      <td>0.724332</td>\n",
       "      <td>0.726936</td>\n",
       "      <td>0.683394</td>\n",
       "      <td>0.653090</td>\n",
       "      <td>0.696985</td>\n",
       "      <td>0.748464</td>\n",
       "      <td>0.751690</td>\n",
       "      <td>...</td>\n",
       "      <td>0.000004</td>\n",
       "      <td>0.000003</td>\n",
       "      <td>0.000002</td>\n",
       "      <td>0.000002</td>\n",
       "      <td>0.000005</td>\n",
       "      <td>0.000008</td>\n",
       "      <td>5.375256e-06</td>\n",
       "      <td>2.270875e-06</td>\n",
       "      <td>1.642310e-07</td>\n",
       "      <td>neutral</td>\n",
       "    </tr>\n",
       "    <tr>\n",
       "      <th>1</th>\n",
       "      <td>0.270354</td>\n",
       "      <td>0.683518</td>\n",
       "      <td>0.730694</td>\n",
       "      <td>0.716595</td>\n",
       "      <td>0.679522</td>\n",
       "      <td>0.675306</td>\n",
       "      <td>0.669987</td>\n",
       "      <td>0.631418</td>\n",
       "      <td>0.686722</td>\n",
       "      <td>0.713734</td>\n",
       "      <td>...</td>\n",
       "      <td>0.000007</td>\n",
       "      <td>0.000007</td>\n",
       "      <td>0.000007</td>\n",
       "      <td>0.000007</td>\n",
       "      <td>0.000012</td>\n",
       "      <td>0.000009</td>\n",
       "      <td>8.465726e-06</td>\n",
       "      <td>2.638482e-06</td>\n",
       "      <td>1.788962e-07</td>\n",
       "      <td>neutral</td>\n",
       "    </tr>\n",
       "    <tr>\n",
       "      <th>2</th>\n",
       "      <td>0.307369</td>\n",
       "      <td>0.716178</td>\n",
       "      <td>0.761089</td>\n",
       "      <td>0.758008</td>\n",
       "      <td>0.758388</td>\n",
       "      <td>0.734855</td>\n",
       "      <td>0.649470</td>\n",
       "      <td>0.630941</td>\n",
       "      <td>0.680735</td>\n",
       "      <td>0.738601</td>\n",
       "      <td>...</td>\n",
       "      <td>0.000013</td>\n",
       "      <td>0.000013</td>\n",
       "      <td>0.000015</td>\n",
       "      <td>0.000020</td>\n",
       "      <td>0.000028</td>\n",
       "      <td>0.000048</td>\n",
       "      <td>2.483219e-05</td>\n",
       "      <td>8.083573e-06</td>\n",
       "      <td>6.468821e-07</td>\n",
       "      <td>neutral</td>\n",
       "    </tr>\n",
       "    <tr>\n",
       "      <th>3</th>\n",
       "      <td>0.298019</td>\n",
       "      <td>0.768713</td>\n",
       "      <td>0.744220</td>\n",
       "      <td>0.736126</td>\n",
       "      <td>0.739507</td>\n",
       "      <td>0.687656</td>\n",
       "      <td>0.680441</td>\n",
       "      <td>0.684369</td>\n",
       "      <td>0.737645</td>\n",
       "      <td>0.710171</td>\n",
       "      <td>...</td>\n",
       "      <td>0.000020</td>\n",
       "      <td>0.000019</td>\n",
       "      <td>0.000025</td>\n",
       "      <td>0.000080</td>\n",
       "      <td>0.000040</td>\n",
       "      <td>0.000037</td>\n",
       "      <td>3.107767e-05</td>\n",
       "      <td>1.029449e-05</td>\n",
       "      <td>6.636600e-07</td>\n",
       "      <td>neutral</td>\n",
       "    </tr>\n",
       "    <tr>\n",
       "      <th>4</th>\n",
       "      <td>0.154713</td>\n",
       "      <td>0.622998</td>\n",
       "      <td>0.607691</td>\n",
       "      <td>0.712971</td>\n",
       "      <td>0.753272</td>\n",
       "      <td>0.674684</td>\n",
       "      <td>0.643868</td>\n",
       "      <td>0.681713</td>\n",
       "      <td>0.636211</td>\n",
       "      <td>0.655982</td>\n",
       "      <td>...</td>\n",
       "      <td>0.000002</td>\n",
       "      <td>0.000002</td>\n",
       "      <td>0.000002</td>\n",
       "      <td>0.000002</td>\n",
       "      <td>0.000005</td>\n",
       "      <td>0.000001</td>\n",
       "      <td>9.390579e-07</td>\n",
       "      <td>3.889406e-07</td>\n",
       "      <td>3.605377e-08</td>\n",
       "      <td>calm</td>\n",
       "    </tr>\n",
       "    <tr>\n",
       "      <th>...</th>\n",
       "      <td>...</td>\n",
       "      <td>...</td>\n",
       "      <td>...</td>\n",
       "      <td>...</td>\n",
       "      <td>...</td>\n",
       "      <td>...</td>\n",
       "      <td>...</td>\n",
       "      <td>...</td>\n",
       "      <td>...</td>\n",
       "      <td>...</td>\n",
       "      <td>...</td>\n",
       "      <td>...</td>\n",
       "      <td>...</td>\n",
       "      <td>...</td>\n",
       "      <td>...</td>\n",
       "      <td>...</td>\n",
       "      <td>...</td>\n",
       "      <td>...</td>\n",
       "      <td>...</td>\n",
       "      <td>...</td>\n",
       "      <td>...</td>\n",
       "    </tr>\n",
       "    <tr>\n",
       "      <th>1435</th>\n",
       "      <td>0.283275</td>\n",
       "      <td>0.682935</td>\n",
       "      <td>0.611837</td>\n",
       "      <td>0.554851</td>\n",
       "      <td>0.582324</td>\n",
       "      <td>0.586729</td>\n",
       "      <td>0.563456</td>\n",
       "      <td>0.609359</td>\n",
       "      <td>0.620698</td>\n",
       "      <td>0.627672</td>\n",
       "      <td>...</td>\n",
       "      <td>0.000434</td>\n",
       "      <td>0.000342</td>\n",
       "      <td>0.000196</td>\n",
       "      <td>0.000177</td>\n",
       "      <td>0.000099</td>\n",
       "      <td>0.000138</td>\n",
       "      <td>1.130562e-04</td>\n",
       "      <td>4.429360e-05</td>\n",
       "      <td>5.434214e-06</td>\n",
       "      <td>surprised</td>\n",
       "    </tr>\n",
       "    <tr>\n",
       "      <th>1436</th>\n",
       "      <td>0.191298</td>\n",
       "      <td>0.716018</td>\n",
       "      <td>0.711515</td>\n",
       "      <td>0.630057</td>\n",
       "      <td>0.613776</td>\n",
       "      <td>0.545133</td>\n",
       "      <td>0.462726</td>\n",
       "      <td>0.490436</td>\n",
       "      <td>0.521717</td>\n",
       "      <td>0.525032</td>\n",
       "      <td>...</td>\n",
       "      <td>0.001142</td>\n",
       "      <td>0.001424</td>\n",
       "      <td>0.001061</td>\n",
       "      <td>0.001011</td>\n",
       "      <td>0.001184</td>\n",
       "      <td>0.001036</td>\n",
       "      <td>8.029558e-04</td>\n",
       "      <td>2.153141e-04</td>\n",
       "      <td>2.631514e-05</td>\n",
       "      <td>surprised</td>\n",
       "    </tr>\n",
       "    <tr>\n",
       "      <th>1437</th>\n",
       "      <td>0.196438</td>\n",
       "      <td>0.685374</td>\n",
       "      <td>0.677752</td>\n",
       "      <td>0.573350</td>\n",
       "      <td>0.545138</td>\n",
       "      <td>0.522108</td>\n",
       "      <td>0.551561</td>\n",
       "      <td>0.543446</td>\n",
       "      <td>0.491266</td>\n",
       "      <td>0.526830</td>\n",
       "      <td>...</td>\n",
       "      <td>0.001348</td>\n",
       "      <td>0.001701</td>\n",
       "      <td>0.001115</td>\n",
       "      <td>0.000949</td>\n",
       "      <td>0.000899</td>\n",
       "      <td>0.000693</td>\n",
       "      <td>5.340261e-04</td>\n",
       "      <td>1.162562e-04</td>\n",
       "      <td>6.957946e-06</td>\n",
       "      <td>surprised</td>\n",
       "    </tr>\n",
       "    <tr>\n",
       "      <th>1438</th>\n",
       "      <td>0.199051</td>\n",
       "      <td>0.607357</td>\n",
       "      <td>0.599170</td>\n",
       "      <td>0.603107</td>\n",
       "      <td>0.588351</td>\n",
       "      <td>0.588026</td>\n",
       "      <td>0.622353</td>\n",
       "      <td>0.626575</td>\n",
       "      <td>0.553910</td>\n",
       "      <td>0.519906</td>\n",
       "      <td>...</td>\n",
       "      <td>0.005899</td>\n",
       "      <td>0.006859</td>\n",
       "      <td>0.005612</td>\n",
       "      <td>0.006526</td>\n",
       "      <td>0.006053</td>\n",
       "      <td>0.006471</td>\n",
       "      <td>5.336353e-03</td>\n",
       "      <td>1.802893e-03</td>\n",
       "      <td>1.158740e-04</td>\n",
       "      <td>surprised</td>\n",
       "    </tr>\n",
       "    <tr>\n",
       "      <th>1439</th>\n",
       "      <td>0.272524</td>\n",
       "      <td>0.661359</td>\n",
       "      <td>0.666273</td>\n",
       "      <td>0.666437</td>\n",
       "      <td>0.645427</td>\n",
       "      <td>0.648144</td>\n",
       "      <td>0.623735</td>\n",
       "      <td>0.633920</td>\n",
       "      <td>0.666475</td>\n",
       "      <td>0.664318</td>\n",
       "      <td>...</td>\n",
       "      <td>0.005692</td>\n",
       "      <td>0.004203</td>\n",
       "      <td>0.003621</td>\n",
       "      <td>0.002870</td>\n",
       "      <td>0.002641</td>\n",
       "      <td>0.002637</td>\n",
       "      <td>2.022138e-03</td>\n",
       "      <td>6.244836e-04</td>\n",
       "      <td>1.411325e-04</td>\n",
       "      <td>surprised</td>\n",
       "    </tr>\n",
       "  </tbody>\n",
       "</table>\n",
       "<p>1440 rows × 163 columns</p>\n",
       "</div>"
      ],
      "text/plain": [
       "             0         1         2         3         4         5         6  \\\n",
       "0     0.300184  0.738577  0.742603  0.724332  0.726936  0.683394  0.653090   \n",
       "1     0.270354  0.683518  0.730694  0.716595  0.679522  0.675306  0.669987   \n",
       "2     0.307369  0.716178  0.761089  0.758008  0.758388  0.734855  0.649470   \n",
       "3     0.298019  0.768713  0.744220  0.736126  0.739507  0.687656  0.680441   \n",
       "4     0.154713  0.622998  0.607691  0.712971  0.753272  0.674684  0.643868   \n",
       "...        ...       ...       ...       ...       ...       ...       ...   \n",
       "1435  0.283275  0.682935  0.611837  0.554851  0.582324  0.586729  0.563456   \n",
       "1436  0.191298  0.716018  0.711515  0.630057  0.613776  0.545133  0.462726   \n",
       "1437  0.196438  0.685374  0.677752  0.573350  0.545138  0.522108  0.551561   \n",
       "1438  0.199051  0.607357  0.599170  0.603107  0.588351  0.588026  0.622353   \n",
       "1439  0.272524  0.661359  0.666273  0.666437  0.645427  0.648144  0.623735   \n",
       "\n",
       "             7         8         9  ...       153       154       155  \\\n",
       "0     0.696985  0.748464  0.751690  ...  0.000004  0.000003  0.000002   \n",
       "1     0.631418  0.686722  0.713734  ...  0.000007  0.000007  0.000007   \n",
       "2     0.630941  0.680735  0.738601  ...  0.000013  0.000013  0.000015   \n",
       "3     0.684369  0.737645  0.710171  ...  0.000020  0.000019  0.000025   \n",
       "4     0.681713  0.636211  0.655982  ...  0.000002  0.000002  0.000002   \n",
       "...        ...       ...       ...  ...       ...       ...       ...   \n",
       "1435  0.609359  0.620698  0.627672  ...  0.000434  0.000342  0.000196   \n",
       "1436  0.490436  0.521717  0.525032  ...  0.001142  0.001424  0.001061   \n",
       "1437  0.543446  0.491266  0.526830  ...  0.001348  0.001701  0.001115   \n",
       "1438  0.626575  0.553910  0.519906  ...  0.005899  0.006859  0.005612   \n",
       "1439  0.633920  0.666475  0.664318  ...  0.005692  0.004203  0.003621   \n",
       "\n",
       "           156       157       158           159           160           161  \\\n",
       "0     0.000002  0.000005  0.000008  5.375256e-06  2.270875e-06  1.642310e-07   \n",
       "1     0.000007  0.000012  0.000009  8.465726e-06  2.638482e-06  1.788962e-07   \n",
       "2     0.000020  0.000028  0.000048  2.483219e-05  8.083573e-06  6.468821e-07   \n",
       "3     0.000080  0.000040  0.000037  3.107767e-05  1.029449e-05  6.636600e-07   \n",
       "4     0.000002  0.000005  0.000001  9.390579e-07  3.889406e-07  3.605377e-08   \n",
       "...        ...       ...       ...           ...           ...           ...   \n",
       "1435  0.000177  0.000099  0.000138  1.130562e-04  4.429360e-05  5.434214e-06   \n",
       "1436  0.001011  0.001184  0.001036  8.029558e-04  2.153141e-04  2.631514e-05   \n",
       "1437  0.000949  0.000899  0.000693  5.340261e-04  1.162562e-04  6.957946e-06   \n",
       "1438  0.006526  0.006053  0.006471  5.336353e-03  1.802893e-03  1.158740e-04   \n",
       "1439  0.002870  0.002641  0.002637  2.022138e-03  6.244836e-04  1.411325e-04   \n",
       "\n",
       "         labels  \n",
       "0       neutral  \n",
       "1       neutral  \n",
       "2       neutral  \n",
       "3       neutral  \n",
       "4          calm  \n",
       "...         ...  \n",
       "1435  surprised  \n",
       "1436  surprised  \n",
       "1437  surprised  \n",
       "1438  surprised  \n",
       "1439  surprised  \n",
       "\n",
       "[1440 rows x 163 columns]"
      ]
     },
     "execution_count": 59,
     "metadata": {},
     "output_type": "execute_result"
    }
   ],
   "source": [
    "import pandas as pd\n",
    "data_df =  pd.read_csv(\"Features\\\\Final_Test_Data.csv\",index_col=False)\n",
    "data_df"
   ]
  },
  {
   "cell_type": "code",
   "execution_count": 60,
   "metadata": {},
   "outputs": [],
   "source": [
    "X=data_df.iloc[:,:-1].values\n",
    "Y = data_df['labels'].values"
   ]
  },
  {
   "cell_type": "code",
   "execution_count": 61,
   "metadata": {},
   "outputs": [
    {
     "data": {
      "text/plain": [
       "array(['neutral', 'neutral', 'neutral', ..., 'surprised', 'surprised',\n",
       "       'surprised'], dtype=object)"
      ]
     },
     "execution_count": 61,
     "metadata": {},
     "output_type": "execute_result"
    }
   ],
   "source": [
    "Y"
   ]
  },
  {
   "cell_type": "code",
   "execution_count": 62,
   "metadata": {},
   "outputs": [],
   "source": [
    "scaler = StandardScaler()\n",
    "X=scaler.fit_transform(X)\n",
    "Y = Ohe.fit_transform(Y.reshape(-1,1)).toarray()"
   ]
  },
  {
   "cell_type": "code",
   "execution_count": 63,
   "metadata": {},
   "outputs": [
    {
     "data": {
      "text/plain": [
       "(array([[[ 1.7719921 ],\n",
       "         [ 1.42985937],\n",
       "         [ 1.32215036],\n",
       "         ...,\n",
       "         [-0.32874941],\n",
       "         [-0.25852626],\n",
       "         [-0.14610257]],\n",
       " \n",
       "        [[ 1.28272328],\n",
       "         [ 0.78989864],\n",
       "         [ 1.19535832],\n",
       "         ...,\n",
       "         [-0.32791535],\n",
       "         [-0.25835563],\n",
       "         [-0.14609369]],\n",
       " \n",
       "        [[ 1.88982298],\n",
       "         [ 1.16950773],\n",
       "         [ 1.51895986],\n",
       "         ...,\n",
       "         [-0.32349839],\n",
       "         [-0.25582812],\n",
       "         [-0.14581044]],\n",
       " \n",
       "        ...,\n",
       " \n",
       "        [[ 0.07037775],\n",
       "         [ 0.81147625],\n",
       "         [ 0.63171893],\n",
       "         ...,\n",
       "         [-0.18607773],\n",
       "         [-0.20561638],\n",
       "         [-0.14199065]],\n",
       " \n",
       "        [[ 0.11323883],\n",
       "         [-0.09532548],\n",
       "         [-0.20488883],\n",
       "         ...,\n",
       "         [ 1.10996883],\n",
       "         [ 0.57728906],\n",
       "         [-0.07606886]],\n",
       " \n",
       "        [[ 1.31831726],\n",
       "         [ 0.53234004],\n",
       "         [ 0.50951539],\n",
       "         ...,\n",
       "         [ 0.21553224],\n",
       "         [ 0.03029333],\n",
       "         [-0.06078106]]]),\n",
       " array([[0., 0., 0., ..., 1., 0., 0.],\n",
       "        [0., 0., 0., ..., 1., 0., 0.],\n",
       "        [0., 0., 0., ..., 1., 0., 0.],\n",
       "        ...,\n",
       "        [0., 0., 0., ..., 0., 0., 1.],\n",
       "        [0., 0., 0., ..., 0., 0., 1.],\n",
       "        [0., 0., 0., ..., 0., 0., 1.]]))"
      ]
     },
     "execution_count": 63,
     "metadata": {},
     "output_type": "execute_result"
    }
   ],
   "source": [
    "# making our data compatible to model.\n",
    "x_test = np.expand_dims(X, axis=2)\n",
    "\n",
    "x_test, Y"
   ]
  },
  {
   "cell_type": "code",
   "execution_count": 64,
   "metadata": {},
   "outputs": [
    {
     "name": "stdout",
     "output_type": "stream",
     "text": [
      "45/45 [==============================] - 0s 7ms/step - loss: 0.7822 - accuracy: 0.8319\n",
      "Accuracy of our model on test data :  83.1944465637207 %\n"
     ]
    }
   ],
   "source": [
    "print(\"Accuracy of our model on test data : \" , model.evaluate(x_test,Y)[1]*100 , \"%\")"
   ]
  },
  {
   "cell_type": "code",
   "execution_count": 65,
   "metadata": {},
   "outputs": [],
   "source": [
    "pred_test = model.predict(x_test)\n",
    "y_pred = Ohe.inverse_transform(pred_test)\n",
    "\n",
    "y_test = Ohe.inverse_transform(Y)"
   ]
  },
  {
   "cell_type": "code",
   "execution_count": 66,
   "metadata": {},
   "outputs": [
    {
     "data": {
      "text/html": [
       "<div>\n",
       "<style scoped>\n",
       "    .dataframe tbody tr th:only-of-type {\n",
       "        vertical-align: middle;\n",
       "    }\n",
       "\n",
       "    .dataframe tbody tr th {\n",
       "        vertical-align: top;\n",
       "    }\n",
       "\n",
       "    .dataframe thead th {\n",
       "        text-align: right;\n",
       "    }\n",
       "</style>\n",
       "<table border=\"1\" class=\"dataframe\">\n",
       "  <thead>\n",
       "    <tr style=\"text-align: right;\">\n",
       "      <th></th>\n",
       "      <th>Predicted Labels</th>\n",
       "      <th>Actual Labels</th>\n",
       "    </tr>\n",
       "  </thead>\n",
       "  <tbody>\n",
       "    <tr>\n",
       "      <th>1430</th>\n",
       "      <td>disgust</td>\n",
       "      <td>disgust</td>\n",
       "    </tr>\n",
       "    <tr>\n",
       "      <th>1431</th>\n",
       "      <td>disgust</td>\n",
       "      <td>disgust</td>\n",
       "    </tr>\n",
       "    <tr>\n",
       "      <th>1432</th>\n",
       "      <td>surprised</td>\n",
       "      <td>surprised</td>\n",
       "    </tr>\n",
       "    <tr>\n",
       "      <th>1433</th>\n",
       "      <td>surprised</td>\n",
       "      <td>surprised</td>\n",
       "    </tr>\n",
       "    <tr>\n",
       "      <th>1434</th>\n",
       "      <td>surprised</td>\n",
       "      <td>surprised</td>\n",
       "    </tr>\n",
       "    <tr>\n",
       "      <th>1435</th>\n",
       "      <td>surprised</td>\n",
       "      <td>surprised</td>\n",
       "    </tr>\n",
       "    <tr>\n",
       "      <th>1436</th>\n",
       "      <td>surprised</td>\n",
       "      <td>surprised</td>\n",
       "    </tr>\n",
       "    <tr>\n",
       "      <th>1437</th>\n",
       "      <td>surprised</td>\n",
       "      <td>surprised</td>\n",
       "    </tr>\n",
       "    <tr>\n",
       "      <th>1438</th>\n",
       "      <td>surprised</td>\n",
       "      <td>surprised</td>\n",
       "    </tr>\n",
       "    <tr>\n",
       "      <th>1439</th>\n",
       "      <td>surprised</td>\n",
       "      <td>surprised</td>\n",
       "    </tr>\n",
       "  </tbody>\n",
       "</table>\n",
       "</div>"
      ],
      "text/plain": [
       "     Predicted Labels Actual Labels\n",
       "1430          disgust       disgust\n",
       "1431          disgust       disgust\n",
       "1432        surprised     surprised\n",
       "1433        surprised     surprised\n",
       "1434        surprised     surprised\n",
       "1435        surprised     surprised\n",
       "1436        surprised     surprised\n",
       "1437        surprised     surprised\n",
       "1438        surprised     surprised\n",
       "1439        surprised     surprised"
      ]
     },
     "execution_count": 66,
     "metadata": {},
     "output_type": "execute_result"
    }
   ],
   "source": [
    "df = pd.DataFrame(columns=['Predicted Labels', 'Actual Labels'])\n",
    "df['Predicted Labels'] = y_pred.flatten()\n",
    "df['Actual Labels'] = y_test.flatten()\n",
    "\n",
    "df.tail(10)"
   ]
  },
  {
   "cell_type": "code",
   "execution_count": 67,
   "metadata": {},
   "outputs": [
    {
     "data": {
      "image/png": "[encoded data removed]",
      "text/plain": [
       "<Figure size 864x720 with 2 Axes>"
      ]
     },
     "metadata": {
      "needs_background": "light"
     },
     "output_type": "display_data"
    }
   ],
   "source": [
    "import seaborn as sns\n",
    "from sklearn.metrics import confusion_matrix\n",
    "import matplotlib.pyplot as plt\n",
    "cm = confusion_matrix(y_test, y_pred)\n",
    "plt.figure(figsize = (12, 10))\n",
    "cm = pd.DataFrame(cm , index = [i for i in Ohe.categories_] , columns = [i for i in Ohe.categories_])\n",
    "sns.heatmap(cm, linecolor='white', cmap='Greens', linewidth=1, annot=True, fmt='')\n",
    "plt.title('Confusion Matrix', size=20)\n",
    "plt.xlabel('Predicted Labels', size=14)\n",
    "plt.ylabel('Actual Labels', size=14)\n",
    "plt.show()"
   ]
  },
  {
   "cell_type": "code",
   "execution_count": null,
   "metadata": {},
   "outputs": [],
   "source": []
  }
 ],
 "metadata": {
  "interpreter": {
   "hash": "25dd6ee6d223873db6918ba7dafc55ff354bee08d0006ede29dd28bdf8c1bd1c"
  },
  "kernelspec": {
   "display_name": "Python 3.9.5 64-bit ('base': conda)",
   "language": "python",
   "name": "python3"
  },
  "language_info": {
   "codemirror_mode": {
    "name": "ipython",
    "version": 3
   },
   "file_extension": ".py",
   "mimetype": "text/x-python",
   "name": "python",
   "nbconvert_exporter": "python",
   "pygments_lexer": "ipython3",
   "version": "3.9.5"
  },
  "orig_nbformat": 4
 },
 "nbformat": 4,
 "nbformat_minor": 2
}
