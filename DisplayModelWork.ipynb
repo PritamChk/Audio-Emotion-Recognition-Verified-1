{
 "cells": [
  {
   "cell_type": "code",
   "execution_count": 55,
   "metadata": {},
   "outputs": [],
   "source": [
    "from easygui import fileopenbox\n",
    "from librosa import load\n",
    "import os\n",
    "import winsound"
   ]
  },
  {
   "cell_type": "markdown",
   "metadata": {},
   "source": [
    "## Selecting the audio file manually\n",
    "\n",
    "---"
   ]
  },
  {
   "cell_type": "code",
   "execution_count": 250,
   "metadata": {},
   "outputs": [],
   "source": [
    "default_path_to_dataset = os.path.abspath(os.path.join(\"Datasets\",\"RAVDESS_DATASET\"))\n",
    "choosen_path = fileopenbox(msg=\"Choose a voice sample\",title=\"Test Audio Selector\",default=default_path_to_dataset,filetypes=\"*.wav\")"
   ]
  },
  {
   "cell_type": "markdown",
   "metadata": {},
   "source": [
    "## Play The Selected Audio"
   ]
  },
  {
   "cell_type": "code",
   "execution_count": 251,
   "metadata": {},
   "outputs": [],
   "source": [
    "winsound.PlaySound(choosen_path,winsound.SND_FILENAME)"
   ]
  },
  {
   "cell_type": "markdown",
   "metadata": {},
   "source": [
    "# Extract The Original Emotion Details from File Name\n",
    "---"
   ]
  },
  {
   "cell_type": "code",
   "execution_count": 209,
   "metadata": {},
   "outputs": [],
   "source": [
    "emotion_dictionary = {\n",
    "        1:'neutral',\n",
    "        2:'calm',\n",
    "        3:'happy',\n",
    "        4:'sad',\n",
    "        5:'angry',\n",
    "        6:'fearful',\n",
    "        7:'disgust',\n",
    "        8:'surprised'\n",
    "    }"
   ]
  },
  {
   "cell_type": "code",
   "execution_count": 210,
   "metadata": {},
   "outputs": [],
   "source": [
    "def find_emotion(filename):\n",
    "    \"\"\"\n",
    "        @filename : taking the voice input filename \n",
    "        \n",
    "        @returning emotion code by extracting it \n",
    "    \"\"\"\n",
    "    parta,_ = filename.split('.')\n",
    "    codes = parta.split('-')\n",
    "    #print(*codes)\n",
    "    return int(codes[2])"
   ]
  },
  {
   "cell_type": "code",
   "execution_count": 252,
   "metadata": {},
   "outputs": [
    {
     "name": "stdout",
     "output_type": "stream",
     "text": [
      "angry\n"
     ]
    }
   ],
   "source": [
    "file_name = choosen_path.split(\"\\\\\")[-1]\n",
    "original_emotion = find_emotion(file_name)\n",
    "print(emotion_dictionary[original_emotion])"
   ]
  },
  {
   "cell_type": "markdown",
   "metadata": {},
   "source": [
    "## Encoding Categories\n",
    "---"
   ]
  },
  {
   "cell_type": "code",
   "execution_count": 212,
   "metadata": {},
   "outputs": [],
   "source": [
    "from sklearn.preprocessing import OneHotEncoder\n",
    "from tensorflow.keras.models import load_model"
   ]
  },
  {
   "cell_type": "code",
   "execution_count": 244,
   "metadata": {},
   "outputs": [
    {
     "name": "stdout",
     "output_type": "stream",
     "text": [
      "[['neutral']\n",
      " ['calm']\n",
      " ['happy']\n",
      " ['sad']\n",
      " ['angry']\n",
      " ['fearful']\n",
      " ['disgust']\n",
      " ['surprised']]\n"
     ]
    },
    {
     "data": {
      "text/plain": [
       "array(['x0_angry', 'x0_calm', 'x0_disgust', 'x0_fearful', 'x0_happy',\n",
       "       'x0_neutral', 'x0_sad', 'x0_surprised'], dtype=object)"
      ]
     },
     "execution_count": 244,
     "metadata": {},
     "output_type": "execute_result"
    }
   ],
   "source": [
    "categories = np.array(list(emotion_dictionary.values())).reshape(-1,1)\n",
    "print(categories)\n",
    "Ohe = OneHotEncoder(handle_unknown=\"ignore\")\n",
    "v = Ohe.fit_transform(categories).toarray()\n",
    "Ohe.get_feature_names_out()"
   ]
  },
  {
   "cell_type": "code",
   "execution_count": 214,
   "metadata": {},
   "outputs": [
    {
     "name": "stdout",
     "output_type": "stream",
     "text": [
      "[[0. 0. 0. 0. 0. 1. 0. 0.]\n",
      " [0. 1. 0. 0. 0. 0. 0. 0.]\n",
      " [0. 0. 0. 0. 1. 0. 0. 0.]\n",
      " [0. 0. 0. 0. 0. 0. 1. 0.]\n",
      " [1. 0. 0. 0. 0. 0. 0. 0.]\n",
      " [0. 0. 0. 1. 0. 0. 0. 0.]\n",
      " [0. 0. 1. 0. 0. 0. 0. 0.]\n",
      " [0. 0. 0. 0. 0. 0. 0. 1.]]\n"
     ]
    }
   ],
   "source": [
    "print(v)"
   ]
  },
  {
   "cell_type": "markdown",
   "metadata": {},
   "source": [
    "# Extracting The Features of the selected Audio \n",
    "-----"
   ]
  },
  {
   "cell_type": "markdown",
   "metadata": {},
   "source": [
    "### Feature Extraction Function\n",
    "\n",
    "----"
   ]
  },
  {
   "cell_type": "code",
   "execution_count": 215,
   "metadata": {},
   "outputs": [],
   "source": [
    "import librosa\n",
    "import numpy as np"
   ]
  },
  {
   "cell_type": "code",
   "execution_count": 216,
   "metadata": {},
   "outputs": [],
   "source": [
    "def extract_features(file_path):\n",
    "    data,sample_rate = load(file_path,duration = 2.5) \n",
    "    # ZCR\n",
    "    result = np.array([])\n",
    "    zcr = np.mean(librosa.feature.zero_crossing_rate(y=data).T, axis=0)\n",
    "    result=np.hstack((result, zcr)) # stacking horizontally\n",
    "\n",
    "    # Chroma_stft\n",
    "    stft = np.abs(librosa.stft(data))\n",
    "    chroma_stft = np.mean(librosa.feature.chroma_stft(S=stft, sr=sample_rate).T, axis=0)\n",
    "    result = np.hstack((result, chroma_stft)) # stacking horizontally\n",
    "\n",
    "    # MFCC\n",
    "    mfcc = np.mean(librosa.feature.mfcc(y=data, sr=sample_rate).T, axis=0)\n",
    "    result = np.hstack((result, mfcc)) # stacking horizontally\n",
    "\n",
    "    # Root Mean Square Value\n",
    "    rms = np.mean(librosa.feature.rms(y=data).T, axis=0)\n",
    "    result = np.hstack((result, rms)) # stacking horizontally\n",
    "\n",
    "    # MelSpectogram\n",
    "    mel = np.mean(librosa.feature.melspectrogram(y=data, sr=sample_rate).T, axis=0)\n",
    "    result = np.hstack((result, mel)) # stacking horizontally\n",
    "    \n",
    "    return np.array(result)"
   ]
  },
  {
   "cell_type": "code",
   "execution_count": 217,
   "metadata": {},
   "outputs": [],
   "source": [
    "from sklearn.preprocessing import StandardScaler"
   ]
  },
  {
   "cell_type": "markdown",
   "metadata": {},
   "source": [
    "-----\n",
    "# Main Audio Feature Extraction\n",
    "----"
   ]
  },
  {
   "cell_type": "code",
   "execution_count": 264,
   "metadata": {},
   "outputs": [
    {
     "name": "stdout",
     "output_type": "stream",
     "text": [
      "(1, 162, 1)\n"
     ]
    }
   ],
   "source": [
    "aud_features = np.array(extract_features(choosen_path)).reshape(-1,1)\n",
    "# scaler = StandardScaler()\n",
    "# aud_features = scaler.fit_transform(aud_features)\n",
    "aud_features =aud_features.reshape(1,-1,1)\n",
    "aud_features\n",
    "print(aud_features.shape)"
   ]
  },
  {
   "cell_type": "markdown",
   "metadata": {},
   "source": [
    "# Select the model you want to use\n",
    "----"
   ]
  },
  {
   "cell_type": "code",
   "execution_count": 321,
   "metadata": {},
   "outputs": [],
   "source": [
    "model_path = fileopenbox(default=os.path.abspath(\"Models\"),filetypes=\"\\*.h5\")"
   ]
  },
  {
   "cell_type": "markdown",
   "metadata": {},
   "source": [
    "----\n",
    "### Loading the Model & Compiling it"
   ]
  },
  {
   "cell_type": "code",
   "execution_count": 322,
   "metadata": {},
   "outputs": [],
   "source": [
    "model = load_model(model_path)"
   ]
  },
  {
   "cell_type": "markdown",
   "metadata": {},
   "source": [
    "# Prediction"
   ]
  },
  {
   "cell_type": "code",
   "execution_count": 291,
   "metadata": {},
   "outputs": [
    {
     "data": {
      "text/plain": [
       "array([[0., 0., 0., 0., 0., 0., 1., 0.]], dtype=float32)"
      ]
     },
     "execution_count": 291,
     "metadata": {},
     "output_type": "execute_result"
    }
   ],
   "source": [
    "ans = model.predict(aud_features)\n",
    "ans"
   ]
  },
  {
   "cell_type": "markdown",
   "metadata": {},
   "source": [
    "----\n",
    "# Predicted Emotion\n",
    "----"
   ]
  },
  {
   "cell_type": "code",
   "execution_count": 295,
   "metadata": {},
   "outputs": [
    {
     "data": {
      "text/plain": [
       "'sad'"
      ]
     },
     "execution_count": 295,
     "metadata": {},
     "output_type": "execute_result"
    }
   ],
   "source": [
    "Ohe.inverse_transform(ans)[0][0]"
   ]
  },
  {
   "cell_type": "markdown",
   "metadata": {},
   "source": [
    "----------\n",
    "# Original Emotion Of the Same Audio\n",
    "----\n"
   ]
  },
  {
   "cell_type": "code",
   "execution_count": 296,
   "metadata": {},
   "outputs": [
    {
     "data": {
      "text/plain": [
       "'angry'"
      ]
     },
     "execution_count": 296,
     "metadata": {},
     "output_type": "execute_result"
    }
   ],
   "source": [
    "emotion_dictionary[original_emotion]"
   ]
  },
  {
   "cell_type": "markdown",
   "metadata": {},
   "source": [
    "# If Both Orignal and Prediction are Same or Not\n",
    "----"
   ]
  },
  {
   "cell_type": "code",
   "execution_count": 238,
   "metadata": {},
   "outputs": [
    {
     "data": {
      "text/plain": [
       "False"
      ]
     },
     "execution_count": 238,
     "metadata": {},
     "output_type": "execute_result"
    }
   ],
   "source": [
    "Ohe.inverse_transform(ans)[0][0] == emotion_dictionary[original_emotion]"
   ]
  },
  {
   "cell_type": "code",
   "execution_count": 300,
   "metadata": {},
   "outputs": [
    {
     "data": {
      "text/html": [
       "<div>\n",
       "<style scoped>\n",
       "    .dataframe tbody tr th:only-of-type {\n",
       "        vertical-align: middle;\n",
       "    }\n",
       "\n",
       "    .dataframe tbody tr th {\n",
       "        vertical-align: top;\n",
       "    }\n",
       "\n",
       "    .dataframe thead th {\n",
       "        text-align: right;\n",
       "    }\n",
       "</style>\n",
       "<table border=\"1\" class=\"dataframe\">\n",
       "  <thead>\n",
       "    <tr style=\"text-align: right;\">\n",
       "      <th></th>\n",
       "      <th>0</th>\n",
       "      <th>1</th>\n",
       "      <th>2</th>\n",
       "      <th>3</th>\n",
       "      <th>4</th>\n",
       "      <th>5</th>\n",
       "      <th>6</th>\n",
       "      <th>7</th>\n",
       "      <th>8</th>\n",
       "      <th>9</th>\n",
       "      <th>...</th>\n",
       "      <th>153</th>\n",
       "      <th>154</th>\n",
       "      <th>155</th>\n",
       "      <th>156</th>\n",
       "      <th>157</th>\n",
       "      <th>158</th>\n",
       "      <th>159</th>\n",
       "      <th>160</th>\n",
       "      <th>161</th>\n",
       "      <th>labels</th>\n",
       "    </tr>\n",
       "  </thead>\n",
       "  <tbody>\n",
       "    <tr>\n",
       "      <th>0</th>\n",
       "      <td>0.279514</td>\n",
       "      <td>0.703756</td>\n",
       "      <td>0.736823</td>\n",
       "      <td>0.806092</td>\n",
       "      <td>0.782010</td>\n",
       "      <td>0.713422</td>\n",
       "      <td>0.656320</td>\n",
       "      <td>0.633494</td>\n",
       "      <td>0.670024</td>\n",
       "      <td>0.731536</td>\n",
       "      <td>...</td>\n",
       "      <td>0.000002</td>\n",
       "      <td>0.000003</td>\n",
       "      <td>0.000003</td>\n",
       "      <td>0.000003</td>\n",
       "      <td>0.000003</td>\n",
       "      <td>0.000003</td>\n",
       "      <td>0.000002</td>\n",
       "      <td>0.000001</td>\n",
       "      <td>5.983615e-08</td>\n",
       "      <td>neutral</td>\n",
       "    </tr>\n",
       "    <tr>\n",
       "      <th>1</th>\n",
       "      <td>0.287760</td>\n",
       "      <td>0.748217</td>\n",
       "      <td>0.821957</td>\n",
       "      <td>0.812205</td>\n",
       "      <td>0.735090</td>\n",
       "      <td>0.664197</td>\n",
       "      <td>0.637912</td>\n",
       "      <td>0.617599</td>\n",
       "      <td>0.715936</td>\n",
       "      <td>0.740380</td>\n",
       "      <td>...</td>\n",
       "      <td>0.000014</td>\n",
       "      <td>0.000017</td>\n",
       "      <td>0.000017</td>\n",
       "      <td>0.000017</td>\n",
       "      <td>0.000019</td>\n",
       "      <td>0.000018</td>\n",
       "      <td>0.000014</td>\n",
       "      <td>0.000005</td>\n",
       "      <td>3.123728e-07</td>\n",
       "      <td>neutral</td>\n",
       "    </tr>\n",
       "    <tr>\n",
       "      <th>2</th>\n",
       "      <td>0.277091</td>\n",
       "      <td>0.781108</td>\n",
       "      <td>0.860907</td>\n",
       "      <td>0.803445</td>\n",
       "      <td>0.767308</td>\n",
       "      <td>0.686528</td>\n",
       "      <td>0.623064</td>\n",
       "      <td>0.616170</td>\n",
       "      <td>0.673181</td>\n",
       "      <td>0.728865</td>\n",
       "      <td>...</td>\n",
       "      <td>0.000004</td>\n",
       "      <td>0.000004</td>\n",
       "      <td>0.000005</td>\n",
       "      <td>0.000005</td>\n",
       "      <td>0.000006</td>\n",
       "      <td>0.000008</td>\n",
       "      <td>0.000008</td>\n",
       "      <td>0.000003</td>\n",
       "      <td>1.024004e-07</td>\n",
       "      <td>neutral</td>\n",
       "    </tr>\n",
       "    <tr>\n",
       "      <th>3</th>\n",
       "      <td>0.326421</td>\n",
       "      <td>0.772341</td>\n",
       "      <td>0.855526</td>\n",
       "      <td>0.841515</td>\n",
       "      <td>0.820705</td>\n",
       "      <td>0.762666</td>\n",
       "      <td>0.705555</td>\n",
       "      <td>0.690831</td>\n",
       "      <td>0.707719</td>\n",
       "      <td>0.751362</td>\n",
       "      <td>...</td>\n",
       "      <td>0.000039</td>\n",
       "      <td>0.000042</td>\n",
       "      <td>0.000041</td>\n",
       "      <td>0.000044</td>\n",
       "      <td>0.000047</td>\n",
       "      <td>0.000047</td>\n",
       "      <td>0.000038</td>\n",
       "      <td>0.000013</td>\n",
       "      <td>8.357285e-07</td>\n",
       "      <td>neutral</td>\n",
       "    </tr>\n",
       "    <tr>\n",
       "      <th>4</th>\n",
       "      <td>0.266605</td>\n",
       "      <td>0.715337</td>\n",
       "      <td>0.689897</td>\n",
       "      <td>0.732931</td>\n",
       "      <td>0.766625</td>\n",
       "      <td>0.682774</td>\n",
       "      <td>0.639234</td>\n",
       "      <td>0.659342</td>\n",
       "      <td>0.619035</td>\n",
       "      <td>0.682333</td>\n",
       "      <td>...</td>\n",
       "      <td>0.000005</td>\n",
       "      <td>0.000005</td>\n",
       "      <td>0.000005</td>\n",
       "      <td>0.000006</td>\n",
       "      <td>0.000007</td>\n",
       "      <td>0.000006</td>\n",
       "      <td>0.000005</td>\n",
       "      <td>0.000002</td>\n",
       "      <td>9.829482e-08</td>\n",
       "      <td>calm</td>\n",
       "    </tr>\n",
       "    <tr>\n",
       "      <th>...</th>\n",
       "      <td>...</td>\n",
       "      <td>...</td>\n",
       "      <td>...</td>\n",
       "      <td>...</td>\n",
       "      <td>...</td>\n",
       "      <td>...</td>\n",
       "      <td>...</td>\n",
       "      <td>...</td>\n",
       "      <td>...</td>\n",
       "      <td>...</td>\n",
       "      <td>...</td>\n",
       "      <td>...</td>\n",
       "      <td>...</td>\n",
       "      <td>...</td>\n",
       "      <td>...</td>\n",
       "      <td>...</td>\n",
       "      <td>...</td>\n",
       "      <td>...</td>\n",
       "      <td>...</td>\n",
       "      <td>...</td>\n",
       "      <td>...</td>\n",
       "    </tr>\n",
       "    <tr>\n",
       "      <th>1435</th>\n",
       "      <td>0.309625</td>\n",
       "      <td>0.720950</td>\n",
       "      <td>0.712727</td>\n",
       "      <td>0.674588</td>\n",
       "      <td>0.644779</td>\n",
       "      <td>0.658577</td>\n",
       "      <td>0.625607</td>\n",
       "      <td>0.622781</td>\n",
       "      <td>0.667984</td>\n",
       "      <td>0.661963</td>\n",
       "      <td>...</td>\n",
       "      <td>0.000160</td>\n",
       "      <td>0.000226</td>\n",
       "      <td>0.000243</td>\n",
       "      <td>0.000179</td>\n",
       "      <td>0.000182</td>\n",
       "      <td>0.000147</td>\n",
       "      <td>0.000112</td>\n",
       "      <td>0.000036</td>\n",
       "      <td>2.788666e-06</td>\n",
       "      <td>surprised</td>\n",
       "    </tr>\n",
       "    <tr>\n",
       "      <th>1436</th>\n",
       "      <td>0.258189</td>\n",
       "      <td>0.745996</td>\n",
       "      <td>0.768891</td>\n",
       "      <td>0.775086</td>\n",
       "      <td>0.753704</td>\n",
       "      <td>0.670230</td>\n",
       "      <td>0.565443</td>\n",
       "      <td>0.513029</td>\n",
       "      <td>0.575354</td>\n",
       "      <td>0.603921</td>\n",
       "      <td>...</td>\n",
       "      <td>0.000392</td>\n",
       "      <td>0.000372</td>\n",
       "      <td>0.000485</td>\n",
       "      <td>0.000472</td>\n",
       "      <td>0.000426</td>\n",
       "      <td>0.000367</td>\n",
       "      <td>0.000266</td>\n",
       "      <td>0.000111</td>\n",
       "      <td>6.781227e-06</td>\n",
       "      <td>surprised</td>\n",
       "    </tr>\n",
       "    <tr>\n",
       "      <th>1437</th>\n",
       "      <td>0.209968</td>\n",
       "      <td>0.655012</td>\n",
       "      <td>0.710417</td>\n",
       "      <td>0.647692</td>\n",
       "      <td>0.554148</td>\n",
       "      <td>0.514528</td>\n",
       "      <td>0.523606</td>\n",
       "      <td>0.573323</td>\n",
       "      <td>0.549905</td>\n",
       "      <td>0.502964</td>\n",
       "      <td>...</td>\n",
       "      <td>0.000206</td>\n",
       "      <td>0.000305</td>\n",
       "      <td>0.000400</td>\n",
       "      <td>0.000392</td>\n",
       "      <td>0.000149</td>\n",
       "      <td>0.000246</td>\n",
       "      <td>0.000071</td>\n",
       "      <td>0.000033</td>\n",
       "      <td>2.470324e-06</td>\n",
       "      <td>surprised</td>\n",
       "    </tr>\n",
       "    <tr>\n",
       "      <th>1438</th>\n",
       "      <td>0.301946</td>\n",
       "      <td>0.669872</td>\n",
       "      <td>0.664391</td>\n",
       "      <td>0.706619</td>\n",
       "      <td>0.740115</td>\n",
       "      <td>0.703026</td>\n",
       "      <td>0.682171</td>\n",
       "      <td>0.744426</td>\n",
       "      <td>0.705624</td>\n",
       "      <td>0.628129</td>\n",
       "      <td>...</td>\n",
       "      <td>0.001711</td>\n",
       "      <td>0.001662</td>\n",
       "      <td>0.001958</td>\n",
       "      <td>0.001649</td>\n",
       "      <td>0.001359</td>\n",
       "      <td>0.002025</td>\n",
       "      <td>0.001486</td>\n",
       "      <td>0.000404</td>\n",
       "      <td>3.176464e-05</td>\n",
       "      <td>surprised</td>\n",
       "    </tr>\n",
       "    <tr>\n",
       "      <th>1439</th>\n",
       "      <td>0.289493</td>\n",
       "      <td>0.700358</td>\n",
       "      <td>0.678361</td>\n",
       "      <td>0.697104</td>\n",
       "      <td>0.660445</td>\n",
       "      <td>0.561482</td>\n",
       "      <td>0.633785</td>\n",
       "      <td>0.662856</td>\n",
       "      <td>0.718290</td>\n",
       "      <td>0.734294</td>\n",
       "      <td>...</td>\n",
       "      <td>0.001112</td>\n",
       "      <td>0.001663</td>\n",
       "      <td>0.001550</td>\n",
       "      <td>0.000946</td>\n",
       "      <td>0.001002</td>\n",
       "      <td>0.000779</td>\n",
       "      <td>0.000537</td>\n",
       "      <td>0.000183</td>\n",
       "      <td>1.110696e-05</td>\n",
       "      <td>surprised</td>\n",
       "    </tr>\n",
       "  </tbody>\n",
       "</table>\n",
       "<p>1440 rows × 163 columns</p>\n",
       "</div>"
      ],
      "text/plain": [
       "             0         1         2         3         4         5         6  \\\n",
       "0     0.279514  0.703756  0.736823  0.806092  0.782010  0.713422  0.656320   \n",
       "1     0.287760  0.748217  0.821957  0.812205  0.735090  0.664197  0.637912   \n",
       "2     0.277091  0.781108  0.860907  0.803445  0.767308  0.686528  0.623064   \n",
       "3     0.326421  0.772341  0.855526  0.841515  0.820705  0.762666  0.705555   \n",
       "4     0.266605  0.715337  0.689897  0.732931  0.766625  0.682774  0.639234   \n",
       "...        ...       ...       ...       ...       ...       ...       ...   \n",
       "1435  0.309625  0.720950  0.712727  0.674588  0.644779  0.658577  0.625607   \n",
       "1436  0.258189  0.745996  0.768891  0.775086  0.753704  0.670230  0.565443   \n",
       "1437  0.209968  0.655012  0.710417  0.647692  0.554148  0.514528  0.523606   \n",
       "1438  0.301946  0.669872  0.664391  0.706619  0.740115  0.703026  0.682171   \n",
       "1439  0.289493  0.700358  0.678361  0.697104  0.660445  0.561482  0.633785   \n",
       "\n",
       "             7         8         9  ...       153       154       155  \\\n",
       "0     0.633494  0.670024  0.731536  ...  0.000002  0.000003  0.000003   \n",
       "1     0.617599  0.715936  0.740380  ...  0.000014  0.000017  0.000017   \n",
       "2     0.616170  0.673181  0.728865  ...  0.000004  0.000004  0.000005   \n",
       "3     0.690831  0.707719  0.751362  ...  0.000039  0.000042  0.000041   \n",
       "4     0.659342  0.619035  0.682333  ...  0.000005  0.000005  0.000005   \n",
       "...        ...       ...       ...  ...       ...       ...       ...   \n",
       "1435  0.622781  0.667984  0.661963  ...  0.000160  0.000226  0.000243   \n",
       "1436  0.513029  0.575354  0.603921  ...  0.000392  0.000372  0.000485   \n",
       "1437  0.573323  0.549905  0.502964  ...  0.000206  0.000305  0.000400   \n",
       "1438  0.744426  0.705624  0.628129  ...  0.001711  0.001662  0.001958   \n",
       "1439  0.662856  0.718290  0.734294  ...  0.001112  0.001663  0.001550   \n",
       "\n",
       "           156       157       158       159       160           161  \\\n",
       "0     0.000003  0.000003  0.000003  0.000002  0.000001  5.983615e-08   \n",
       "1     0.000017  0.000019  0.000018  0.000014  0.000005  3.123728e-07   \n",
       "2     0.000005  0.000006  0.000008  0.000008  0.000003  1.024004e-07   \n",
       "3     0.000044  0.000047  0.000047  0.000038  0.000013  8.357285e-07   \n",
       "4     0.000006  0.000007  0.000006  0.000005  0.000002  9.829482e-08   \n",
       "...        ...       ...       ...       ...       ...           ...   \n",
       "1435  0.000179  0.000182  0.000147  0.000112  0.000036  2.788666e-06   \n",
       "1436  0.000472  0.000426  0.000367  0.000266  0.000111  6.781227e-06   \n",
       "1437  0.000392  0.000149  0.000246  0.000071  0.000033  2.470324e-06   \n",
       "1438  0.001649  0.001359  0.002025  0.001486  0.000404  3.176464e-05   \n",
       "1439  0.000946  0.001002  0.000779  0.000537  0.000183  1.110696e-05   \n",
       "\n",
       "         labels  \n",
       "0       neutral  \n",
       "1       neutral  \n",
       "2       neutral  \n",
       "3       neutral  \n",
       "4          calm  \n",
       "...         ...  \n",
       "1435  surprised  \n",
       "1436  surprised  \n",
       "1437  surprised  \n",
       "1438  surprised  \n",
       "1439  surprised  \n",
       "\n",
       "[1440 rows x 163 columns]"
      ]
     },
     "execution_count": 300,
     "metadata": {},
     "output_type": "execute_result"
    }
   ],
   "source": [
    "import pandas as pd\n",
    "data_df =  pd.read_csv(\"Features\\\\features_NORG.csv\",index_col=False)\n",
    "data_df"
   ]
  },
  {
   "cell_type": "code",
   "execution_count": 316,
   "metadata": {},
   "outputs": [],
   "source": [
    "X=data_df.iloc[:,:-1].values\n",
    "Y = data_df['labels'].values"
   ]
  },
  {
   "cell_type": "code",
   "execution_count": 317,
   "metadata": {},
   "outputs": [
    {
     "data": {
      "text/plain": [
       "array(['neutral', 'neutral', 'neutral', ..., 'surprised', 'surprised',\n",
       "       'surprised'], dtype=object)"
      ]
     },
     "execution_count": 317,
     "metadata": {},
     "output_type": "execute_result"
    }
   ],
   "source": [
    "Y"
   ]
  },
  {
   "cell_type": "code",
   "execution_count": 318,
   "metadata": {},
   "outputs": [],
   "source": [
    "scaler = StandardScaler()\n",
    "X=scaler.fit_transform(X)\n",
    "Y = Ohe.fit_transform(Y.reshape(-1,1)).toarray()"
   ]
  },
  {
   "cell_type": "code",
   "execution_count": 319,
   "metadata": {},
   "outputs": [
    {
     "data": {
      "text/plain": [
       "(array([[[ 0.823544  ],\n",
       "         [ 0.4866303 ],\n",
       "         [ 0.7864489 ],\n",
       "         ...,\n",
       "         [-0.37586158],\n",
       "         [-0.37585281],\n",
       "         [-0.37453239]],\n",
       " \n",
       "        [[ 1.03818771],\n",
       "         [ 1.09555119],\n",
       "         [ 1.82215654],\n",
       "         ...,\n",
       "         [-0.36679221],\n",
       "         [-0.36677749],\n",
       "         [-0.36545267]],\n",
       " \n",
       "        [[ 0.76046887],\n",
       "         [ 1.54603227],\n",
       "         [ 2.29600475],\n",
       "         ...,\n",
       "         [-0.37098222],\n",
       "         [-0.37092042],\n",
       "         [-0.37300203]],\n",
       " \n",
       "        ...,\n",
       " \n",
       "        [[-0.98661796],\n",
       "         [-0.18096249],\n",
       "         [ 0.46519789],\n",
       "         ...,\n",
       "         [-0.31917845],\n",
       "         [-0.29720242],\n",
       "         [-0.28786553]],\n",
       " \n",
       "        [[ 1.40741254],\n",
       "         [ 0.02255852],\n",
       "         [-0.09473924],\n",
       "         ...,\n",
       "         [ 0.8436395 ],\n",
       "         [ 0.6258396 ],\n",
       "         [ 0.76538434]],\n",
       " \n",
       "        [[ 1.08328171],\n",
       "         [ 0.44008183],\n",
       "         [ 0.0752155 ],\n",
       "         ...,\n",
       "         [ 0.06366271],\n",
       "         [ 0.07695298],\n",
       "         [ 0.02265651]]]),\n",
       " array([[0., 0., 0., ..., 1., 0., 0.],\n",
       "        [0., 0., 0., ..., 1., 0., 0.],\n",
       "        [0., 0., 0., ..., 1., 0., 0.],\n",
       "        ...,\n",
       "        [0., 0., 0., ..., 0., 0., 1.],\n",
       "        [0., 0., 0., ..., 0., 0., 1.],\n",
       "        [0., 0., 0., ..., 0., 0., 1.]]))"
      ]
     },
     "execution_count": 319,
     "metadata": {},
     "output_type": "execute_result"
    }
   ],
   "source": [
    "# making our data compatible to model.\n",
    "x_test = np.expand_dims(X, axis=2)\n",
    "\n",
    "x_test, Y"
   ]
  },
  {
   "cell_type": "code",
   "execution_count": 323,
   "metadata": {},
   "outputs": [
    {
     "name": "stdout",
     "output_type": "stream",
     "text": [
      "45/45 [==============================] - 0s 5ms/step - loss: 1.4942 - accuracy: 0.6458\n",
      "Accuracy of our model on test data :  64.58333134651184 %\n"
     ]
    }
   ],
   "source": [
    "print(\"Accuracy of our model on test data : \" , model.evaluate(x_test,Y)[1]*100 , \"%\")"
   ]
  },
  {
   "cell_type": "code",
   "execution_count": 324,
   "metadata": {},
   "outputs": [],
   "source": [
    "pred_test = model.predict(x_test)\n",
    "y_pred = Ohe.inverse_transform(pred_test)\n",
    "\n",
    "y_test = Ohe.inverse_transform(Y)"
   ]
  },
  {
   "cell_type": "code",
   "execution_count": 325,
   "metadata": {},
   "outputs": [
    {
     "data": {
      "text/html": [
       "<div>\n",
       "<style scoped>\n",
       "    .dataframe tbody tr th:only-of-type {\n",
       "        vertical-align: middle;\n",
       "    }\n",
       "\n",
       "    .dataframe tbody tr th {\n",
       "        vertical-align: top;\n",
       "    }\n",
       "\n",
       "    .dataframe thead th {\n",
       "        text-align: right;\n",
       "    }\n",
       "</style>\n",
       "<table border=\"1\" class=\"dataframe\">\n",
       "  <thead>\n",
       "    <tr style=\"text-align: right;\">\n",
       "      <th></th>\n",
       "      <th>Predicted Labels</th>\n",
       "      <th>Actual Labels</th>\n",
       "    </tr>\n",
       "  </thead>\n",
       "  <tbody>\n",
       "    <tr>\n",
       "      <th>1430</th>\n",
       "      <td>disgust</td>\n",
       "      <td>disgust</td>\n",
       "    </tr>\n",
       "    <tr>\n",
       "      <th>1431</th>\n",
       "      <td>disgust</td>\n",
       "      <td>disgust</td>\n",
       "    </tr>\n",
       "    <tr>\n",
       "      <th>1432</th>\n",
       "      <td>surprised</td>\n",
       "      <td>surprised</td>\n",
       "    </tr>\n",
       "    <tr>\n",
       "      <th>1433</th>\n",
       "      <td>surprised</td>\n",
       "      <td>surprised</td>\n",
       "    </tr>\n",
       "    <tr>\n",
       "      <th>1434</th>\n",
       "      <td>surprised</td>\n",
       "      <td>surprised</td>\n",
       "    </tr>\n",
       "    <tr>\n",
       "      <th>1435</th>\n",
       "      <td>surprised</td>\n",
       "      <td>surprised</td>\n",
       "    </tr>\n",
       "    <tr>\n",
       "      <th>1436</th>\n",
       "      <td>surprised</td>\n",
       "      <td>surprised</td>\n",
       "    </tr>\n",
       "    <tr>\n",
       "      <th>1437</th>\n",
       "      <td>happy</td>\n",
       "      <td>surprised</td>\n",
       "    </tr>\n",
       "    <tr>\n",
       "      <th>1438</th>\n",
       "      <td>surprised</td>\n",
       "      <td>surprised</td>\n",
       "    </tr>\n",
       "    <tr>\n",
       "      <th>1439</th>\n",
       "      <td>surprised</td>\n",
       "      <td>surprised</td>\n",
       "    </tr>\n",
       "  </tbody>\n",
       "</table>\n",
       "</div>"
      ],
      "text/plain": [
       "     Predicted Labels Actual Labels\n",
       "1430          disgust       disgust\n",
       "1431          disgust       disgust\n",
       "1432        surprised     surprised\n",
       "1433        surprised     surprised\n",
       "1434        surprised     surprised\n",
       "1435        surprised     surprised\n",
       "1436        surprised     surprised\n",
       "1437            happy     surprised\n",
       "1438        surprised     surprised\n",
       "1439        surprised     surprised"
      ]
     },
     "execution_count": 325,
     "metadata": {},
     "output_type": "execute_result"
    }
   ],
   "source": [
    "df = pd.DataFrame(columns=['Predicted Labels', 'Actual Labels'])\n",
    "df['Predicted Labels'] = y_pred.flatten()\n",
    "df['Actual Labels'] = y_test.flatten()\n",
    "\n",
    "df.tail(10)"
   ]
  },
  {
   "cell_type": "code",
   "execution_count": 326,
   "metadata": {},
   "outputs": [
    {
     "data": {
      "image/png": "[encoded data removed]",
      "text/plain": [
       "<Figure size 864x720 with 2 Axes>"
      ]
     },
     "metadata": {
      "needs_background": "light"
     },
     "output_type": "display_data"
    }
   ],
   "source": [
    "import seaborn as sns\n",
    "from sklearn.metrics import confusion_matrix\n",
    "import matplotlib.pyplot as plt\n",
    "cm = confusion_matrix(y_test, y_pred)\n",
    "plt.figure(figsize = (12, 10))\n",
    "cm = pd.DataFrame(cm , index = [i for i in Ohe.categories_] , columns = [i for i in Ohe.categories_])\n",
    "sns.heatmap(cm, linecolor='white', cmap='Greens', linewidth=1, annot=True, fmt='')\n",
    "plt.title('Confusion Matrix', size=20)\n",
    "plt.xlabel('Predicted Labels', size=14)\n",
    "plt.ylabel('Actual Labels', size=14)\n",
    "plt.show()"
   ]
  },
  {
   "cell_type": "code",
   "execution_count": null,
   "metadata": {},
   "outputs": [],
   "source": []
  }
 ],
 "metadata": {
  "interpreter": {
   "hash": "25dd6ee6d223873db6918ba7dafc55ff354bee08d0006ede29dd28bdf8c1bd1c"
  },
  "kernelspec": {
   "display_name": "Python 3.9.5 64-bit ('base': conda)",
   "language": "python",
   "name": "python3"
  },
  "language_info": {
   "codemirror_mode": {
    "name": "ipython",
    "version": 3
   },
   "file_extension": ".py",
   "mimetype": "text/x-python",
   "name": "python",
   "nbconvert_exporter": "python",
   "pygments_lexer": "ipython3",
   "version": "3.9.5"
  },
  "orig_nbformat": 4
 },
 "nbformat": 4,
 "nbformat_minor": 2
}
