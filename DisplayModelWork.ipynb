{
 "cells": [
  {
   "cell_type": "markdown",
   "metadata": {},
   "source": [
    "### Libraries\n",
    "---"
   ]
  },
  {
   "cell_type": "code",
   "execution_count": 35,
   "metadata": {},
   "outputs": [],
   "source": [
    "from easygui import fileopenbox\n",
    "from librosa import load\n",
    "import os"
   ]
  },
  {
   "cell_type": "markdown",
   "metadata": {},
   "source": [
    "# Extract The Original Emotion Details from File Name\n",
    "---"
   ]
  },
  {
   "cell_type": "code",
   "execution_count": 36,
   "metadata": {},
   "outputs": [],
   "source": [
    "emotion_dictionary = {\n",
    "        1:'neutral',\n",
    "        2:'calm',\n",
    "        3:'happy',\n",
    "        4:'sad',\n",
    "        5:'angry',\n",
    "        6:'fearful',\n",
    "        7:'disgust',\n",
    "        8:'surprised'\n",
    "    }"
   ]
  },
  {
   "cell_type": "markdown",
   "metadata": {},
   "source": [
    "## Encoding Categories\n",
    "---"
   ]
  },
  {
   "cell_type": "code",
   "execution_count": 37,
   "metadata": {},
   "outputs": [],
   "source": [
    "from sklearn.preprocessing import OneHotEncoder\n",
    "from tensorflow.keras.models import load_model\n",
    "import numpy as np"
   ]
  },
  {
   "cell_type": "code",
   "execution_count": 38,
   "metadata": {},
   "outputs": [
    {
     "name": "stdout",
     "output_type": "stream",
     "text": [
      "[['neutral']\n",
      " ['calm']\n",
      " ['happy']\n",
      " ['sad']\n",
      " ['angry']\n",
      " ['fearful']\n",
      " ['disgust']\n",
      " ['surprised']]\n"
     ]
    },
    {
     "data": {
      "text/plain": [
       "array(['x0_angry', 'x0_calm', 'x0_disgust', 'x0_fearful', 'x0_happy',\n",
       "       'x0_neutral', 'x0_sad', 'x0_surprised'], dtype=object)"
      ]
     },
     "execution_count": 38,
     "metadata": {},
     "output_type": "execute_result"
    }
   ],
   "source": [
    "categories = np.array(list(emotion_dictionary.values())).reshape(-1,1)\n",
    "print(categories)\n",
    "Ohe = OneHotEncoder(handle_unknown=\"ignore\")\n",
    "v = Ohe.fit_transform(categories).toarray()\n",
    "Ohe.get_feature_names_out()"
   ]
  },
  {
   "cell_type": "code",
   "execution_count": 57,
   "metadata": {},
   "outputs": [],
   "source": [
    "import librosa\n",
    "import numpy as np\n",
    "from sklearn.preprocessing import StandardScaler"
   ]
  },
  {
   "cell_type": "markdown",
   "metadata": {},
   "source": [
    "# Select the model you want to use\n",
    "----"
   ]
  },
  {
   "cell_type": "code",
   "execution_count": 43,
   "metadata": {},
   "outputs": [],
   "source": [
    "model_path = fileopenbox(default=os.path.abspath(\"Models\"),filetypes=\"\\*.h5\")"
   ]
  },
  {
   "cell_type": "markdown",
   "metadata": {},
   "source": [
    "----\n",
    "### Loading the Model & Compiling it"
   ]
  },
  {
   "cell_type": "code",
   "execution_count": 44,
   "metadata": {},
   "outputs": [],
   "source": [
    "model = load_model(model_path)"
   ]
  },
  {
   "cell_type": "markdown",
   "metadata": {},
   "source": [
    "---\n",
    "### Print the Model Summary"
   ]
  },
  {
   "cell_type": "code",
   "execution_count": 56,
   "metadata": {},
   "outputs": [
    {
     "name": "stdout",
     "output_type": "stream",
     "text": [
      "Model: \"sequential_91\"\n",
      "_________________________________________________________________\n",
      "Layer (type)                 Output Shape              Param #   \n",
      "=================================================================\n",
      "conv1d_182 (Conv1D)          (None, 162, 256)          1536      \n",
      "_________________________________________________________________\n",
      "max_pooling1d_182 (MaxPoolin (None, 54, 256)           0         \n",
      "_________________________________________________________________\n",
      "conv1d_183 (Conv1D)          (None, 18, 256)           590080    \n",
      "_________________________________________________________________\n",
      "max_pooling1d_183 (MaxPoolin (None, 4, 256)            0         \n",
      "_________________________________________________________________\n",
      "dropout_182 (Dropout)        (None, 4, 256)            0         \n",
      "_________________________________________________________________\n",
      "flatten_91 (Flatten)         (None, 1024)              0         \n",
      "_________________________________________________________________\n",
      "dense_182 (Dense)            (None, 128)               131200    \n",
      "_________________________________________________________________\n",
      "dropout_183 (Dropout)        (None, 128)               0         \n",
      "_________________________________________________________________\n",
      "dense_183 (Dense)            (None, 8)                 1032      \n",
      "=================================================================\n",
      "Total params: 723,848\n",
      "Trainable params: 723,848\n",
      "Non-trainable params: 0\n",
      "_________________________________________________________________\n"
     ]
    }
   ],
   "source": [
    "model.summary()"
   ]
  },
  {
   "cell_type": "markdown",
   "metadata": {},
   "source": [
    "#### Make The Model Image Plot\n",
    "---"
   ]
  },
  {
   "cell_type": "code",
   "execution_count": 45,
   "metadata": {},
   "outputs": [
    {
     "data": {
      "text/plain": [
       "'model_3_80_20_13'"
      ]
     },
     "execution_count": 45,
     "metadata": {},
     "output_type": "execute_result"
    }
   ],
   "source": [
    "model_path\n",
    "model_image_path = model_path.split(\"\\\\\")[-1].split(\".\")[0]\n",
    "model_image_path"
   ]
  },
  {
   "cell_type": "markdown",
   "metadata": {},
   "source": [
    "## Plot the model structure\n",
    "---"
   ]
  },
  {
   "cell_type": "code",
   "execution_count": 46,
   "metadata": {},
   "outputs": [
    {
     "data": {
      "image/png": "[encoded data removed]",
      "text/plain": [
       "<IPython.core.display.Image object>"
      ]
     },
     "execution_count": 46,
     "metadata": {},
     "output_type": "execute_result"
    }
   ],
   "source": [
    "from tensorflow.keras.utils import plot_model\n",
    "\n",
    "plot_model(\n",
    "    model,\n",
    "    to_file=f\"Model_Image\\\\{model_image_path}.png\",\n",
    "    show_shapes=False,\n",
    "    show_dtype=False,\n",
    "    show_layer_names=True,\n",
    "    rankdir=\"TB\",\n",
    "    expand_nested=False,\n",
    "    dpi=96,\n",
    "    layer_range=None\n",
    ")"
   ]
  },
  {
   "cell_type": "markdown",
   "metadata": {},
   "source": [
    "----\n",
    "# Prediction\n",
    "----"
   ]
  },
  {
   "cell_type": "markdown",
   "metadata": {},
   "source": [
    "#### SELECT THE TEST DATA FILE\n",
    "---"
   ]
  },
  {
   "cell_type": "code",
   "execution_count": 58,
   "metadata": {},
   "outputs": [],
   "source": [
    "path_to_test_data = fileopenbox(default=os.path.abspath(\"Final_Test_Data\"),filetypes=\"\\*.csv\")"
   ]
  },
  {
   "cell_type": "markdown",
   "metadata": {},
   "source": [
    "#### LOAD DATA"
   ]
  },
  {
   "cell_type": "code",
   "execution_count": 59,
   "metadata": {},
   "outputs": [
    {
     "data": {
      "text/html": [
       "<div>\n",
       "<style scoped>\n",
       "    .dataframe tbody tr th:only-of-type {\n",
       "        vertical-align: middle;\n",
       "    }\n",
       "\n",
       "    .dataframe tbody tr th {\n",
       "        vertical-align: top;\n",
       "    }\n",
       "\n",
       "    .dataframe thead th {\n",
       "        text-align: right;\n",
       "    }\n",
       "</style>\n",
       "<table border=\"1\" class=\"dataframe\">\n",
       "  <thead>\n",
       "    <tr style=\"text-align: right;\">\n",
       "      <th></th>\n",
       "      <th>0</th>\n",
       "      <th>1</th>\n",
       "      <th>2</th>\n",
       "      <th>3</th>\n",
       "      <th>4</th>\n",
       "      <th>5</th>\n",
       "      <th>6</th>\n",
       "      <th>7</th>\n",
       "      <th>8</th>\n",
       "      <th>9</th>\n",
       "      <th>...</th>\n",
       "      <th>153</th>\n",
       "      <th>154</th>\n",
       "      <th>155</th>\n",
       "      <th>156</th>\n",
       "      <th>157</th>\n",
       "      <th>158</th>\n",
       "      <th>159</th>\n",
       "      <th>160</th>\n",
       "      <th>161</th>\n",
       "      <th>labels</th>\n",
       "    </tr>\n",
       "  </thead>\n",
       "  <tbody>\n",
       "    <tr>\n",
       "      <th>0</th>\n",
       "      <td>0.300184</td>\n",
       "      <td>0.738577</td>\n",
       "      <td>0.742603</td>\n",
       "      <td>0.724332</td>\n",
       "      <td>0.726936</td>\n",
       "      <td>0.683394</td>\n",
       "      <td>0.653090</td>\n",
       "      <td>0.696985</td>\n",
       "      <td>0.748464</td>\n",
       "      <td>0.751690</td>\n",
       "      <td>...</td>\n",
       "      <td>0.000004</td>\n",
       "      <td>0.000003</td>\n",
       "      <td>0.000002</td>\n",
       "      <td>0.000002</td>\n",
       "      <td>0.000005</td>\n",
       "      <td>0.000008</td>\n",
       "      <td>0.000005</td>\n",
       "      <td>0.000002</td>\n",
       "      <td>1.642310e-07</td>\n",
       "      <td>neutral</td>\n",
       "    </tr>\n",
       "    <tr>\n",
       "      <th>1</th>\n",
       "      <td>0.270354</td>\n",
       "      <td>0.683518</td>\n",
       "      <td>0.730694</td>\n",
       "      <td>0.716595</td>\n",
       "      <td>0.679522</td>\n",
       "      <td>0.675306</td>\n",
       "      <td>0.669987</td>\n",
       "      <td>0.631418</td>\n",
       "      <td>0.686722</td>\n",
       "      <td>0.713734</td>\n",
       "      <td>...</td>\n",
       "      <td>0.000007</td>\n",
       "      <td>0.000007</td>\n",
       "      <td>0.000007</td>\n",
       "      <td>0.000007</td>\n",
       "      <td>0.000012</td>\n",
       "      <td>0.000009</td>\n",
       "      <td>0.000008</td>\n",
       "      <td>0.000003</td>\n",
       "      <td>1.788962e-07</td>\n",
       "      <td>neutral</td>\n",
       "    </tr>\n",
       "    <tr>\n",
       "      <th>2</th>\n",
       "      <td>0.307369</td>\n",
       "      <td>0.716178</td>\n",
       "      <td>0.761089</td>\n",
       "      <td>0.758008</td>\n",
       "      <td>0.758388</td>\n",
       "      <td>0.734855</td>\n",
       "      <td>0.649470</td>\n",
       "      <td>0.630941</td>\n",
       "      <td>0.680735</td>\n",
       "      <td>0.738601</td>\n",
       "      <td>...</td>\n",
       "      <td>0.000013</td>\n",
       "      <td>0.000013</td>\n",
       "      <td>0.000015</td>\n",
       "      <td>0.000020</td>\n",
       "      <td>0.000028</td>\n",
       "      <td>0.000048</td>\n",
       "      <td>0.000025</td>\n",
       "      <td>0.000008</td>\n",
       "      <td>6.468821e-07</td>\n",
       "      <td>neutral</td>\n",
       "    </tr>\n",
       "    <tr>\n",
       "      <th>3</th>\n",
       "      <td>0.298019</td>\n",
       "      <td>0.768713</td>\n",
       "      <td>0.744220</td>\n",
       "      <td>0.736126</td>\n",
       "      <td>0.739507</td>\n",
       "      <td>0.687656</td>\n",
       "      <td>0.680441</td>\n",
       "      <td>0.684369</td>\n",
       "      <td>0.737645</td>\n",
       "      <td>0.710171</td>\n",
       "      <td>...</td>\n",
       "      <td>0.000020</td>\n",
       "      <td>0.000019</td>\n",
       "      <td>0.000025</td>\n",
       "      <td>0.000080</td>\n",
       "      <td>0.000040</td>\n",
       "      <td>0.000037</td>\n",
       "      <td>0.000031</td>\n",
       "      <td>0.000010</td>\n",
       "      <td>6.636600e-07</td>\n",
       "      <td>neutral</td>\n",
       "    </tr>\n",
       "  </tbody>\n",
       "</table>\n",
       "<p>4 rows × 163 columns</p>\n",
       "</div>"
      ],
      "text/plain": [
       "          0         1         2         3         4         5         6  \\\n",
       "0  0.300184  0.738577  0.742603  0.724332  0.726936  0.683394  0.653090   \n",
       "1  0.270354  0.683518  0.730694  0.716595  0.679522  0.675306  0.669987   \n",
       "2  0.307369  0.716178  0.761089  0.758008  0.758388  0.734855  0.649470   \n",
       "3  0.298019  0.768713  0.744220  0.736126  0.739507  0.687656  0.680441   \n",
       "\n",
       "          7         8         9  ...       153       154       155       156  \\\n",
       "0  0.696985  0.748464  0.751690  ...  0.000004  0.000003  0.000002  0.000002   \n",
       "1  0.631418  0.686722  0.713734  ...  0.000007  0.000007  0.000007  0.000007   \n",
       "2  0.630941  0.680735  0.738601  ...  0.000013  0.000013  0.000015  0.000020   \n",
       "3  0.684369  0.737645  0.710171  ...  0.000020  0.000019  0.000025  0.000080   \n",
       "\n",
       "        157       158       159       160           161   labels  \n",
       "0  0.000005  0.000008  0.000005  0.000002  1.642310e-07  neutral  \n",
       "1  0.000012  0.000009  0.000008  0.000003  1.788962e-07  neutral  \n",
       "2  0.000028  0.000048  0.000025  0.000008  6.468821e-07  neutral  \n",
       "3  0.000040  0.000037  0.000031  0.000010  6.636600e-07  neutral  \n",
       "\n",
       "[4 rows x 163 columns]"
      ]
     },
     "execution_count": 59,
     "metadata": {},
     "output_type": "execute_result"
    }
   ],
   "source": [
    "import pandas as pd\n",
    "data_df =  pd.read_csv(path_to_test_data,index_col=False)\n",
    "data_df.head(4)"
   ]
  },
  {
   "cell_type": "code",
   "execution_count": 48,
   "metadata": {},
   "outputs": [],
   "source": [
    "X=data_df.iloc[:,:-1].values\n",
    "Y = data_df['labels'].values"
   ]
  },
  {
   "cell_type": "code",
   "execution_count": 49,
   "metadata": {},
   "outputs": [
    {
     "data": {
      "text/plain": [
       "array(['neutral', 'neutral', 'neutral', ..., 'surprised', 'surprised',\n",
       "       'surprised'], dtype=object)"
      ]
     },
     "execution_count": 49,
     "metadata": {},
     "output_type": "execute_result"
    }
   ],
   "source": [
    "Y"
   ]
  },
  {
   "cell_type": "code",
   "execution_count": 50,
   "metadata": {},
   "outputs": [],
   "source": [
    "scaler = StandardScaler()\n",
    "X=scaler.fit_transform(X)\n",
    "Y = Ohe.fit_transform(Y.reshape(-1,1)).toarray()"
   ]
  },
  {
   "cell_type": "code",
   "execution_count": 51,
   "metadata": {},
   "outputs": [
    {
     "data": {
      "text/plain": [
       "((1440, 162, 1), (1440, 8))"
      ]
     },
     "execution_count": 51,
     "metadata": {},
     "output_type": "execute_result"
    }
   ],
   "source": [
    "# making our data compatible to model.\n",
    "x_test = np.expand_dims(X, axis=2)\n",
    "\n",
    "x_test.shape, Y.shape"
   ]
  },
  {
   "cell_type": "code",
   "execution_count": 52,
   "metadata": {},
   "outputs": [
    {
     "name": "stdout",
     "output_type": "stream",
     "text": [
      "45/45 [==============================] - 0s 5ms/step - loss: 0.7149 - accuracy: 0.8625\n",
      "Accuracy of our model on test data :  86.2500011920929 %\n"
     ]
    }
   ],
   "source": [
    "print(\"Accuracy of our model on test data : \" , model.evaluate(x_test,Y)[1]*100 , \"%\")"
   ]
  },
  {
   "cell_type": "code",
   "execution_count": 53,
   "metadata": {},
   "outputs": [],
   "source": [
    "pred_test = model.predict(x_test)\n",
    "y_pred = Ohe.inverse_transform(pred_test)\n",
    "\n",
    "y_test = Ohe.inverse_transform(Y)"
   ]
  },
  {
   "cell_type": "code",
   "execution_count": 54,
   "metadata": {},
   "outputs": [
    {
     "data": {
      "text/html": [
       "<div>\n",
       "<style scoped>\n",
       "    .dataframe tbody tr th:only-of-type {\n",
       "        vertical-align: middle;\n",
       "    }\n",
       "\n",
       "    .dataframe tbody tr th {\n",
       "        vertical-align: top;\n",
       "    }\n",
       "\n",
       "    .dataframe thead th {\n",
       "        text-align: right;\n",
       "    }\n",
       "</style>\n",
       "<table border=\"1\" class=\"dataframe\">\n",
       "  <thead>\n",
       "    <tr style=\"text-align: right;\">\n",
       "      <th></th>\n",
       "      <th>Predicted Labels</th>\n",
       "      <th>Actual Labels</th>\n",
       "    </tr>\n",
       "  </thead>\n",
       "  <tbody>\n",
       "    <tr>\n",
       "      <th>1435</th>\n",
       "      <td>surprised</td>\n",
       "      <td>surprised</td>\n",
       "    </tr>\n",
       "    <tr>\n",
       "      <th>1436</th>\n",
       "      <td>surprised</td>\n",
       "      <td>surprised</td>\n",
       "    </tr>\n",
       "    <tr>\n",
       "      <th>1437</th>\n",
       "      <td>surprised</td>\n",
       "      <td>surprised</td>\n",
       "    </tr>\n",
       "    <tr>\n",
       "      <th>1438</th>\n",
       "      <td>surprised</td>\n",
       "      <td>surprised</td>\n",
       "    </tr>\n",
       "    <tr>\n",
       "      <th>1439</th>\n",
       "      <td>surprised</td>\n",
       "      <td>surprised</td>\n",
       "    </tr>\n",
       "  </tbody>\n",
       "</table>\n",
       "</div>"
      ],
      "text/plain": [
       "     Predicted Labels Actual Labels\n",
       "1435        surprised     surprised\n",
       "1436        surprised     surprised\n",
       "1437        surprised     surprised\n",
       "1438        surprised     surprised\n",
       "1439        surprised     surprised"
      ]
     },
     "execution_count": 54,
     "metadata": {},
     "output_type": "execute_result"
    }
   ],
   "source": [
    "df = pd.DataFrame(columns=['Predicted Labels', 'Actual Labels'])\n",
    "df['Predicted Labels'] = y_pred.flatten()\n",
    "df['Actual Labels'] = y_test.flatten()\n",
    "\n",
    "df.tail(5)"
   ]
  },
  {
   "cell_type": "code",
   "execution_count": 55,
   "metadata": {},
   "outputs": [
    {
     "data": {
      "image/png": "[encoded data removed]",
      "text/plain": [
       "<Figure size 864x720 with 2 Axes>"
      ]
     },
     "metadata": {
      "needs_background": "light"
     },
     "output_type": "display_data"
    }
   ],
   "source": [
    "import seaborn as sns\n",
    "from sklearn.metrics import confusion_matrix\n",
    "import matplotlib.pyplot as plt\n",
    "cm = confusion_matrix(y_test, y_pred)\n",
    "plt.figure(figsize = (12, 10))\n",
    "cm = pd.DataFrame(cm , index = [i for i in Ohe.categories_] , columns = [i for i in Ohe.categories_])\n",
    "sns.heatmap(cm, linecolor='white', cmap='Greens', linewidth=1, annot=True, fmt='')\n",
    "plt.title('Confusion Matrix', size=20)\n",
    "plt.xlabel('Predicted Labels', size=14)\n",
    "plt.ylabel('Actual Labels', size=14)\n",
    "plt.show()"
   ]
  },
  {
   "cell_type": "code",
   "execution_count": null,
   "metadata": {},
   "outputs": [],
   "source": []
  }
 ],
 "metadata": {
  "interpreter": {
   "hash": "25dd6ee6d223873db6918ba7dafc55ff354bee08d0006ede29dd28bdf8c1bd1c"
  },
  "kernelspec": {
   "display_name": "Python 3.9.5 64-bit ('base': conda)",
   "language": "python",
   "name": "python3"
  },
  "language_info": {
   "codemirror_mode": {
    "name": "ipython",
    "version": 3
   },
   "file_extension": ".py",
   "mimetype": "text/x-python",
   "name": "python",
   "nbconvert_exporter": "python",
   "pygments_lexer": "ipython3",
   "version": "3.9.5"
  },
  "orig_nbformat": 4
 },
 "nbformat": 4,
 "nbformat_minor": 2
}
