{
 "cells": [
  {
   "cell_type": "code",
   "execution_count": 55,
   "metadata": {},
   "outputs": [],
   "source": [
    "from easygui import fileopenbox\n",
    "from librosa import load\n",
    "import os\n",
    "import winsound"
   ]
  },
  {
   "cell_type": "markdown",
   "metadata": {},
   "source": [
    "## Selecting the audio file manually\n",
    "\n",
    "---"
   ]
  },
  {
   "cell_type": "code",
   "execution_count": 61,
   "metadata": {},
   "outputs": [],
   "source": [
    "default_path_to_dataset = os.path.abspath(os.path.join(\"Datasets\",\"RAVDESS_DATASET\"))\n",
    "choosen_path = fileopenbox(msg=\"Choose a voice sample\",title=\"Test Audio Selector\",default=default_path_to_dataset,filetypes=\"*.wav\")"
   ]
  },
  {
   "cell_type": "markdown",
   "metadata": {},
   "source": [
    "## Play The Selected Audio"
   ]
  },
  {
   "cell_type": "code",
   "execution_count": 63,
   "metadata": {},
   "outputs": [],
   "source": [
    "winsound.PlaySound(choosen_path,winsound.SND_FILENAME)"
   ]
  },
  {
   "cell_type": "markdown",
   "metadata": {},
   "source": [
    "# Extract The Original Emotion Details from File Name\n",
    "---"
   ]
  },
  {
   "cell_type": "code",
   "execution_count": 56,
   "metadata": {},
   "outputs": [],
   "source": [
    "emotion_dictionary = {\n",
    "        1:'neutral',\n",
    "        2:'calm',\n",
    "        3:'happy',\n",
    "        4:'sad',\n",
    "        5:'angry',\n",
    "        6:'fearful',\n",
    "        7:'disgust',\n",
    "        8:'surprised'\n",
    "    }"
   ]
  },
  {
   "cell_type": "code",
   "execution_count": 64,
   "metadata": {},
   "outputs": [],
   "source": [
    "def find_emotion(filename):\n",
    "    \"\"\"\n",
    "        @filename : taking the voice input filename \n",
    "        \n",
    "        @returning emotion code by extracting it \n",
    "    \"\"\"\n",
    "    parta,_ = filename.split('.')\n",
    "    codes = parta.split('-')\n",
    "    #print(*codes)\n",
    "    return int(codes[2])"
   ]
  },
  {
   "cell_type": "code",
   "execution_count": 62,
   "metadata": {},
   "outputs": [
    {
     "name": "stdout",
     "output_type": "stream",
     "text": [
      "surprised\n"
     ]
    }
   ],
   "source": [
    "file_name = choosen_path.split(\"\\\\\")[-1]\n",
    "original_emotion = find_emotion(file_name)\n",
    "print(emotion_dictionary[original_emotion])"
   ]
  },
  {
   "cell_type": "markdown",
   "metadata": {},
   "source": [
    "# Extracting The Features of the selected Audio \n",
    "-----"
   ]
  },
  {
   "cell_type": "code",
   "execution_count": null,
   "metadata": {},
   "outputs": [],
   "source": []
  }
 ],
 "metadata": {
  "interpreter": {
   "hash": "25dd6ee6d223873db6918ba7dafc55ff354bee08d0006ede29dd28bdf8c1bd1c"
  },
  "kernelspec": {
   "display_name": "Python 3.9.5 64-bit ('base': conda)",
   "language": "python",
   "name": "python3"
  },
  "language_info": {
   "codemirror_mode": {
    "name": "ipython",
    "version": 3
   },
   "file_extension": ".py",
   "mimetype": "text/x-python",
   "name": "python",
   "nbconvert_exporter": "python",
   "pygments_lexer": "ipython3",
   "version": "3.9.5"
  },
  "orig_nbformat": 4
 },
 "nbformat": 4,
 "nbformat_minor": 2
}
