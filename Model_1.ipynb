{
 "cells": [
  {
   "cell_type": "code",
   "execution_count": 4,
   "metadata": {},
   "outputs": [],
   "source": [
    "import pandas as pd\n",
    "import os"
   ]
  },
  {
   "cell_type": "code",
   "execution_count": 3,
   "metadata": {},
   "outputs": [],
   "source": [
    "feature_file= os.path.abspath('features_org_stretch_pitch.csv')\n",
    "feature_df = pd.read_csv(feature_file,index_col=False)"
   ]
  },
  {
   "cell_type": "code",
   "execution_count": 14,
   "metadata": {},
   "outputs": [
    {
     "data": {
      "text/plain": [
       "(array([[3.00781250e-01, 7.06492245e-01, 7.56852806e-01, ...,\n",
       "         5.37526876e-06, 2.27085820e-06, 1.64236539e-07],\n",
       "        [1.77940538e-01, 6.66222930e-01, 7.39900291e-01, ...,\n",
       "         2.70506325e-06, 1.08656866e-06, 9.83694051e-08],\n",
       "        [1.84796369e-01, 6.50087893e-01, 7.05284417e-01, ...,\n",
       "         2.49909181e-06, 8.49709522e-07, 4.75048587e-08],\n",
       "        ...,\n",
       "        [2.15621383e-01, 6.76596165e-01, 6.14103734e-01, ...,\n",
       "         1.92967604e-03, 5.23758994e-04, 4.04801503e-05],\n",
       "        [1.83311632e-01, 6.68179870e-01, 6.06806219e-01, ...,\n",
       "         7.94242893e-04, 2.35575164e-04, 1.95215980e-05],\n",
       "        [1.85998987e-01, 7.03913391e-01, 6.61699772e-01, ...,\n",
       "         9.65747167e-04, 3.01387161e-04, 1.64965659e-05]]),\n",
       " array(['neutral', 'neutral', 'neutral', ..., 'surprised', 'surprised',\n",
       "        'surprised'], dtype=object))"
      ]
     },
     "execution_count": 14,
     "metadata": {},
     "output_type": "execute_result"
    }
   ],
   "source": [
    "X = feature_df.iloc[: ,:-1].values\n",
    "Y = feature_df['labels'].values\n",
    "\n",
    "X,Y"
   ]
  },
  {
   "cell_type": "code",
   "execution_count": 13,
   "metadata": {},
   "outputs": [
    {
     "data": {
      "text/plain": [
       "0      0.300781\n",
       "1      0.706492\n",
       "2      0.756853\n",
       "3      0.735217\n",
       "4      0.731014\n",
       "         ...   \n",
       "157    0.000005\n",
       "158    0.000008\n",
       "159    0.000005\n",
       "160    0.000002\n",
       "161         0.0\n",
       "Name: 0, Length: 162, dtype: object"
      ]
     },
     "execution_count": 13,
     "metadata": {},
     "output_type": "execute_result"
    }
   ],
   "source": []
  },
  {
   "cell_type": "code",
   "execution_count": null,
   "metadata": {},
   "outputs": [],
   "source": []
  }
 ],
 "metadata": {
  "interpreter": {
   "hash": "25dd6ee6d223873db6918ba7dafc55ff354bee08d0006ede29dd28bdf8c1bd1c"
  },
  "kernelspec": {
   "display_name": "Python 3.9.5 64-bit ('base': conda)",
   "language": "python",
   "name": "python3"
  },
  "language_info": {
   "codemirror_mode": {
    "name": "ipython",
    "version": 3
   },
   "file_extension": ".py",
   "mimetype": "text/x-python",
   "name": "python",
   "nbconvert_exporter": "python",
   "pygments_lexer": "ipython3",
   "version": "3.9.5"
  },
  "orig_nbformat": 4
 },
 "nbformat": 4,
 "nbformat_minor": 2
}
