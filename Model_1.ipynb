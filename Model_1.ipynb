{
 "cells": [
  {
   "cell_type": "code",
   "execution_count": 203,
   "metadata": {},
   "outputs": [],
   "source": [
    "import pandas as pd\n",
    "import numpy as np\n",
    "import matplotlib.pyplot as plt\n",
    "\n",
    "import os"
   ]
  },
  {
   "cell_type": "code",
   "execution_count": 204,
   "metadata": {},
   "outputs": [],
   "source": [
    "feature_file= os.path.abspath('features_org_stretch_pitch.csv')\n",
    "feature_df = pd.read_csv(feature_file,index_col=False)"
   ]
  },
  {
   "cell_type": "code",
   "execution_count": 205,
   "metadata": {},
   "outputs": [
    {
     "data": {
      "text/plain": [
       "(array([[3.00781250e-01, 7.06492245e-01, 7.56852806e-01, ...,\n",
       "         5.37526876e-06, 2.27085820e-06, 1.64236539e-07],\n",
       "        [1.77940538e-01, 6.66222930e-01, 7.39900291e-01, ...,\n",
       "         2.70506325e-06, 1.08656866e-06, 9.83694051e-08],\n",
       "        [1.84796369e-01, 6.50087893e-01, 7.05284417e-01, ...,\n",
       "         2.49909181e-06, 8.49709522e-07, 4.75048587e-08],\n",
       "        ...,\n",
       "        [2.15621383e-01, 6.76596165e-01, 6.14103734e-01, ...,\n",
       "         1.92967604e-03, 5.23758994e-04, 4.04801503e-05],\n",
       "        [1.83311632e-01, 6.68179870e-01, 6.06806219e-01, ...,\n",
       "         7.94242893e-04, 2.35575164e-04, 1.95215980e-05],\n",
       "        [1.85998987e-01, 7.03913391e-01, 6.61699772e-01, ...,\n",
       "         9.65747167e-04, 3.01387161e-04, 1.64965659e-05]]),\n",
       " array(['neutral', 'neutral', 'neutral', ..., 'surprised', 'surprised',\n",
       "        'surprised'], dtype=object))"
      ]
     },
     "execution_count": 205,
     "metadata": {},
     "output_type": "execute_result"
    }
   ],
   "source": [
    "X = feature_df.iloc[: ,:-1].values\n",
    "Y = feature_df['labels'].values\n",
    "X,Y"
   ]
  },
  {
   "cell_type": "code",
   "execution_count": 206,
   "metadata": {},
   "outputs": [],
   "source": [
    "from sklearn.preprocessing import StandardScaler, OneHotEncoder,LabelEncoder\n",
    "from sklearn.metrics import confusion_matrix, classification_report\n",
    "from sklearn.model_selection import train_test_split\n",
    "import sys\n",
    "\n",
    "import warnings\n",
    "if not sys.warnoptions:\n",
    "    warnings.simplefilter(\"ignore\")\n",
    "warnings.filterwarnings(\"ignore\", category=DeprecationWarning)"
   ]
  },
  {
   "cell_type": "code",
   "execution_count": 207,
   "metadata": {},
   "outputs": [
    {
     "data": {
      "text/plain": [
       "((4320, 162), (4320,))"
      ]
     },
     "execution_count": 207,
     "metadata": {},
     "output_type": "execute_result"
    }
   ],
   "source": [
    "X.shape,Y.shape"
   ]
  },
  {
   "cell_type": "code",
   "execution_count": 208,
   "metadata": {},
   "outputs": [],
   "source": [
    "OHE = OneHotEncoder()\n",
    "Scaler = StandardScaler()\n",
    "Y = OHE.fit_transform(Y.reshape(-1,1)).toarray()\n",
    "X = Scaler.fit_transform(X)"
   ]
  },
  {
   "cell_type": "code",
   "execution_count": 209,
   "metadata": {},
   "outputs": [
    {
     "data": {
      "text/plain": [
       "((3456, 162), (3456, 8), (864, 162), (864, 8))"
      ]
     },
     "execution_count": 209,
     "metadata": {},
     "output_type": "execute_result"
    }
   ],
   "source": [
    "x_train,x_test, y_train , y_test = train_test_split(X,Y,random_state=True,shuffle=True,train_size=.8)\n",
    "x_train.shape, y_train.shape, x_test.shape , y_test.shape"
   ]
  },
  {
   "cell_type": "code",
   "execution_count": 210,
   "metadata": {},
   "outputs": [
    {
     "data": {
      "text/plain": [
       "((3456, 162, 1), (3456, 8), (864, 162, 1), (864, 8))"
      ]
     },
     "execution_count": 210,
     "metadata": {},
     "output_type": "execute_result"
    }
   ],
   "source": [
    "# making our data compatible to model.\n",
    "x_train = np.expand_dims(x_train, axis=2)\n",
    "x_test = np.expand_dims(x_test, axis=2)\n",
    "x_train.shape, y_train.shape, x_test.shape, y_test.shape"
   ]
  },
  {
   "cell_type": "code",
   "execution_count": 211,
   "metadata": {},
   "outputs": [],
   "source": [
    "\n",
    "from tensorflow.keras.callbacks import ReduceLROnPlateau\n",
    "from tensorflow.keras.models import Sequential\n",
    "from tensorflow.keras.layers import Dense, Conv1D, MaxPooling1D, Flatten, Dropout, BatchNormalization\n",
    "from tensorflow.keras.callbacks import ModelCheckpoint"
   ]
  },
  {
   "cell_type": "markdown",
   "metadata": {},
   "source": [
    "---\n",
    "\n",
    "# MAIN MODEL 1\n",
    "\n",
    "---"
   ]
  },
  {
   "cell_type": "code",
   "execution_count": 212,
   "metadata": {},
   "outputs": [
    {
     "data": {
      "text/plain": [
       "(dtype('float64'), dtype('float64'), dtype('float64'), dtype('float64'))"
      ]
     },
     "execution_count": 212,
     "metadata": {},
     "output_type": "execute_result"
    }
   ],
   "source": [
    "x_train.dtype,x_test.dtype,y_test.dtype,y_train.dtype"
   ]
  },
  {
   "cell_type": "code",
   "execution_count": 213,
   "metadata": {},
   "outputs": [
    {
     "name": "stdout",
     "output_type": "stream",
     "text": [
      "Model: \"sequential_10\"\n",
      "_________________________________________________________________\n",
      "Layer (type)                 Output Shape              Param #   \n",
      "=================================================================\n",
      "conv1d_22 (Conv1D)           (None, 162, 256)          1024      \n",
      "_________________________________________________________________\n",
      "max_pooling1d_22 (MaxPooling (None, 162, 256)          0         \n",
      "_________________________________________________________________\n",
      "conv1d_23 (Conv1D)           (None, 81, 128)           163968    \n",
      "_________________________________________________________________\n",
      "max_pooling1d_23 (MaxPooling (None, 41, 128)           0         \n",
      "_________________________________________________________________\n",
      "dropout_20 (Dropout)         (None, 41, 128)           0         \n",
      "_________________________________________________________________\n",
      "flatten_10 (Flatten)         (None, 5248)              0         \n",
      "_________________________________________________________________\n",
      "dense_20 (Dense)             (None, 32)                167968    \n",
      "_________________________________________________________________\n",
      "dropout_21 (Dropout)         (None, 32)                0         \n",
      "_________________________________________________________________\n",
      "dense_21 (Dense)             (None, 8)                 264       \n",
      "=================================================================\n",
      "Total params: 333,224\n",
      "Trainable params: 333,224\n",
      "Non-trainable params: 0\n",
      "_________________________________________________________________\n"
     ]
    }
   ],
   "source": [
    "model=Sequential()\n",
    "model.add(Conv1D(256, kernel_size=3, strides=1, padding='same', activation='relu', input_shape=(x_train.shape[1], 1)))\n",
    "model.add(MaxPooling1D(pool_size=3, strides = 1, padding = 'same'))\n",
    "\n",
    "model.add(Conv1D(128, kernel_size=5, strides=2, padding='same', activation='relu'))\n",
    "model.add(MaxPooling1D(pool_size=5, strides = 2, padding = 'same'))\n",
    "model.add(Dropout(0.25))\n",
    "\n",
    "\n",
    "model.add(Flatten())\n",
    "model.add(Dense(units=32, activation='relu'))\n",
    "model.add(Dropout(0.25))\n",
    "\n",
    "\n",
    "model.add(Dense(units=8, activation='softmax'))\n",
    "model.compile(optimizer = 'adam' , loss = 'categorical_crossentropy' , metrics = ['accuracy'])\n",
    "\n",
    "model.summary()"
   ]
  },
  {
   "cell_type": "code",
   "execution_count": 214,
   "metadata": {},
   "outputs": [
    {
     "name": "stdout",
     "output_type": "stream",
     "text": [
      "Epoch 1/50\n",
      "27/27 [==============================] - 4s 112ms/step - loss: 1.9156 - accuracy: 0.2352 - val_loss: 1.7918 - val_accuracy: 0.3345\n",
      "Epoch 2/50\n",
      "27/27 [==============================] - 3s 113ms/step - loss: 1.7733 - accuracy: 0.3368 - val_loss: 1.6612 - val_accuracy: 0.3738\n",
      "Epoch 3/50\n",
      "27/27 [==============================] - 3s 100ms/step - loss: 1.6738 - accuracy: 0.3669 - val_loss: 1.5799 - val_accuracy: 0.4086\n",
      "Epoch 4/50\n",
      "27/27 [==============================] - 2s 81ms/step - loss: 1.5952 - accuracy: 0.3953 - val_loss: 1.5029 - val_accuracy: 0.4456\n",
      "Epoch 5/50\n",
      "27/27 [==============================] - 2s 83ms/step - loss: 1.5262 - accuracy: 0.4227 - val_loss: 1.4382 - val_accuracy: 0.4653\n",
      "Epoch 6/50\n",
      "27/27 [==============================] - 2s 77ms/step - loss: 1.4851 - accuracy: 0.4416 - val_loss: 1.3764 - val_accuracy: 0.4907\n",
      "Epoch 7/50\n",
      "27/27 [==============================] - 2s 78ms/step - loss: 1.4413 - accuracy: 0.4638 - val_loss: 1.3246 - val_accuracy: 0.5069\n",
      "Epoch 8/50\n",
      "27/27 [==============================] - 2s 74ms/step - loss: 1.3889 - accuracy: 0.4769 - val_loss: 1.3082 - val_accuracy: 0.5127\n",
      "Epoch 9/50\n",
      "27/27 [==============================] - 2s 75ms/step - loss: 1.3340 - accuracy: 0.5009 - val_loss: 1.2612 - val_accuracy: 0.5370\n",
      "Epoch 10/50\n",
      "27/27 [==============================] - 2s 74ms/step - loss: 1.3314 - accuracy: 0.5122 - val_loss: 1.2405 - val_accuracy: 0.5394\n",
      "Epoch 11/50\n",
      "27/27 [==============================] - 2s 75ms/step - loss: 1.2897 - accuracy: 0.5075 - val_loss: 1.2270 - val_accuracy: 0.5324\n",
      "Epoch 12/50\n",
      "27/27 [==============================] - 2s 76ms/step - loss: 1.2598 - accuracy: 0.5284 - val_loss: 1.1728 - val_accuracy: 0.5671\n",
      "Epoch 13/50\n",
      "27/27 [==============================] - 2s 74ms/step - loss: 1.2449 - accuracy: 0.5301 - val_loss: 1.1671 - val_accuracy: 0.5729\n",
      "Epoch 14/50\n",
      "27/27 [==============================] - 2s 76ms/step - loss: 1.2233 - accuracy: 0.5359 - val_loss: 1.1419 - val_accuracy: 0.5625\n",
      "Epoch 15/50\n",
      "27/27 [==============================] - 2s 75ms/step - loss: 1.1756 - accuracy: 0.5628 - val_loss: 1.0817 - val_accuracy: 0.5891\n",
      "Epoch 16/50\n",
      "27/27 [==============================] - 2s 76ms/step - loss: 1.1505 - accuracy: 0.5671 - val_loss: 1.1005 - val_accuracy: 0.6076\n",
      "Epoch 17/50\n",
      "27/27 [==============================] - 2s 75ms/step - loss: 1.1307 - accuracy: 0.5761 - val_loss: 1.0401 - val_accuracy: 0.6088\n",
      "Epoch 18/50\n",
      "27/27 [==============================] - 2s 75ms/step - loss: 1.1236 - accuracy: 0.5703 - val_loss: 1.0286 - val_accuracy: 0.6238\n",
      "Epoch 19/50\n",
      "27/27 [==============================] - 2s 78ms/step - loss: 1.1033 - accuracy: 0.5851 - val_loss: 1.0374 - val_accuracy: 0.6030\n",
      "Epoch 20/50\n",
      "27/27 [==============================] - 2s 80ms/step - loss: 1.0640 - accuracy: 0.5926 - val_loss: 0.9751 - val_accuracy: 0.6354\n",
      "Epoch 21/50\n",
      "27/27 [==============================] - 2s 76ms/step - loss: 1.0789 - accuracy: 0.5969 - val_loss: 0.9718 - val_accuracy: 0.6424\n",
      "Epoch 22/50\n",
      "27/27 [==============================] - 2s 77ms/step - loss: 1.0192 - accuracy: 0.6108 - val_loss: 0.9403 - val_accuracy: 0.6655\n",
      "Epoch 23/50\n",
      "27/27 [==============================] - 2s 72ms/step - loss: 1.0115 - accuracy: 0.6241 - val_loss: 1.0052 - val_accuracy: 0.6377\n",
      "Epoch 24/50\n",
      "27/27 [==============================] - 2s 86ms/step - loss: 0.9908 - accuracy: 0.6291 - val_loss: 0.9120 - val_accuracy: 0.6690\n",
      "Epoch 25/50\n",
      "27/27 [==============================] - 3s 101ms/step - loss: 0.9533 - accuracy: 0.6409 - val_loss: 0.8724 - val_accuracy: 0.6771\n",
      "Epoch 26/50\n",
      "27/27 [==============================] - 2s 91ms/step - loss: 0.9542 - accuracy: 0.6372 - val_loss: 0.8667 - val_accuracy: 0.6863\n",
      "Epoch 27/50\n",
      "27/27 [==============================] - 2s 76ms/step - loss: 0.9306 - accuracy: 0.6392 - val_loss: 0.8716 - val_accuracy: 0.6887\n",
      "Epoch 28/50\n",
      "27/27 [==============================] - 2s 80ms/step - loss: 0.9063 - accuracy: 0.6586 - val_loss: 0.8886 - val_accuracy: 0.6771\n",
      "Epoch 29/50\n",
      "27/27 [==============================] - 2s 77ms/step - loss: 0.9094 - accuracy: 0.6568 - val_loss: 0.8452 - val_accuracy: 0.7014\n",
      "Epoch 30/50\n",
      "27/27 [==============================] - 2s 76ms/step - loss: 0.8903 - accuracy: 0.6664 - val_loss: 0.8159 - val_accuracy: 0.6921\n",
      "Epoch 31/50\n",
      "27/27 [==============================] - 2s 77ms/step - loss: 0.8774 - accuracy: 0.6713 - val_loss: 0.7993 - val_accuracy: 0.6852\n",
      "Epoch 32/50\n",
      "27/27 [==============================] - 2s 77ms/step - loss: 0.8440 - accuracy: 0.6832 - val_loss: 0.7992 - val_accuracy: 0.7118\n",
      "Epoch 33/50\n",
      "27/27 [==============================] - 2s 79ms/step - loss: 0.8423 - accuracy: 0.6803 - val_loss: 0.7721 - val_accuracy: 0.7303\n",
      "Epoch 34/50\n",
      "27/27 [==============================] - 2s 87ms/step - loss: 0.8339 - accuracy: 0.6852 - val_loss: 0.7553 - val_accuracy: 0.7130\n",
      "Epoch 35/50\n",
      "27/27 [==============================] - 2s 77ms/step - loss: 0.8067 - accuracy: 0.6907 - val_loss: 0.7773 - val_accuracy: 0.7315\n",
      "Epoch 36/50\n",
      "27/27 [==============================] - 2s 78ms/step - loss: 0.8016 - accuracy: 0.6991 - val_loss: 0.7512 - val_accuracy: 0.7269\n",
      "Epoch 37/50\n",
      "27/27 [==============================] - 2s 78ms/step - loss: 0.7960 - accuracy: 0.6973 - val_loss: 0.7205 - val_accuracy: 0.7407\n",
      "Epoch 38/50\n",
      "27/27 [==============================] - 2s 78ms/step - loss: 0.7841 - accuracy: 0.6979 - val_loss: 0.7576 - val_accuracy: 0.7292\n",
      "Epoch 39/50\n",
      "27/27 [==============================] - 2s 78ms/step - loss: 0.7931 - accuracy: 0.7086 - val_loss: 0.7354 - val_accuracy: 0.7442\n",
      "Epoch 40/50\n",
      "27/27 [==============================] - 2s 81ms/step - loss: 0.7629 - accuracy: 0.7231 - val_loss: 0.7345 - val_accuracy: 0.7396\n",
      "Epoch 41/50\n",
      "27/27 [==============================] - 2s 80ms/step - loss: 0.7571 - accuracy: 0.7109 - val_loss: 0.7068 - val_accuracy: 0.7407\n",
      "Epoch 42/50\n",
      "27/27 [==============================] - 2s 86ms/step - loss: 0.7552 - accuracy: 0.7138 - val_loss: 0.6947 - val_accuracy: 0.7454\n",
      "Epoch 43/50\n",
      "27/27 [==============================] - 2s 86ms/step - loss: 0.7405 - accuracy: 0.7245 - val_loss: 0.7020 - val_accuracy: 0.7407\n",
      "Epoch 44/50\n",
      "27/27 [==============================] - 2s 77ms/step - loss: 0.7086 - accuracy: 0.7419 - val_loss: 0.6876 - val_accuracy: 0.7523\n",
      "Epoch 45/50\n",
      "27/27 [==============================] - 2s 77ms/step - loss: 0.6970 - accuracy: 0.7358 - val_loss: 0.6736 - val_accuracy: 0.7477\n",
      "Epoch 46/50\n",
      "27/27 [==============================] - 2s 78ms/step - loss: 0.7085 - accuracy: 0.7384 - val_loss: 0.6330 - val_accuracy: 0.7708\n",
      "Epoch 47/50\n",
      "27/27 [==============================] - 2s 78ms/step - loss: 0.6858 - accuracy: 0.7373 - val_loss: 0.6645 - val_accuracy: 0.7396\n",
      "Epoch 48/50\n",
      "27/27 [==============================] - 2s 86ms/step - loss: 0.6973 - accuracy: 0.7384 - val_loss: 0.6764 - val_accuracy: 0.7558\n",
      "Epoch 49/50\n",
      "27/27 [==============================] - 2s 87ms/step - loss: 0.6799 - accuracy: 0.7497 - val_loss: 0.6316 - val_accuracy: 0.7697\n",
      "Epoch 50/50\n",
      "27/27 [==============================] - 3s 110ms/step - loss: 0.6961 - accuracy: 0.7350 - val_loss: 0.6552 - val_accuracy: 0.7488\n"
     ]
    }
   ],
   "source": [
    "rlrp = ReduceLROnPlateau(monitor='loss', factor=0.4, verbose=1, patience=2, min_lr=0.0000001)\n",
    "epoch = 50\n",
    "history=model.fit(x_train, y_train, batch_size=128, epochs=epoch, validation_data=(x_test, y_test), callbacks=[rlrp])"
   ]
  },
  {
   "cell_type": "code",
   "execution_count": 215,
   "metadata": {},
   "outputs": [
    {
     "data": {
      "text/plain": [
       "((864, 162, 1), (864, 8))"
      ]
     },
     "execution_count": 215,
     "metadata": {},
     "output_type": "execute_result"
    }
   ],
   "source": [
    "x_test.shape , y_test.shape"
   ]
  },
  {
   "cell_type": "code",
   "execution_count": 216,
   "metadata": {},
   "outputs": [
    {
     "name": "stdout",
     "output_type": "stream",
     "text": [
      "27/27 [==============================] - 0s 7ms/step - loss: 0.6552 - accuracy: 0.7488\n",
      "Accuracy of our model on test data :  74.88425970077515 %\n"
     ]
    },
    {
     "data": {
      "image/png": "[encoded data removed]",
      "text/plain": [
       "<Figure size 1440x432 with 2 Axes>"
      ]
     },
     "metadata": {
      "needs_background": "light"
     },
     "output_type": "display_data"
    }
   ],
   "source": [
    "print(\"Accuracy of our model on test data : \" , model.evaluate(x_test,y_test)[1]*100 , \"%\")\n",
    "\n",
    "epochs = [i for i in range(epoch)]\n",
    "fig , ax = plt.subplots(1,2)\n",
    "train_acc = history.history['accuracy']\n",
    "train_loss = history.history['loss']\n",
    "test_acc = history.history['val_accuracy']\n",
    "test_loss = history.history['val_loss']\n",
    "\n",
    "fig.set_size_inches(20,6)\n",
    "ax[0].plot(epochs , train_loss , label = 'Training Loss')\n",
    "ax[0].plot(epochs , test_loss , label = 'Testing Loss')\n",
    "ax[0].set_title('Training & Testing Loss')\n",
    "ax[0].legend()\n",
    "ax[0].set_xlabel(\"Epochs\")\n",
    "\n",
    "ax[1].plot(epochs , train_acc , label = 'Training Accuracy')\n",
    "ax[1].plot(epochs , test_acc , label = 'Testing Accuracy')\n",
    "ax[1].set_title('Training & Testing Accuracy')\n",
    "ax[1].legend()\n",
    "ax[1].set_xlabel(\"Epochs\")\n",
    "plt.show()"
   ]
  },
  {
   "cell_type": "code",
   "execution_count": 218,
   "metadata": {},
   "outputs": [],
   "source": [
    "model.save(os.path.join(\"Models\",\"Model_osp.h5\"))"
   ]
  },
  {
   "cell_type": "code",
   "execution_count": 219,
   "metadata": {},
   "outputs": [],
   "source": [
    "# predicting on test data.\n",
    "pred_test = model.predict(x_test)\n",
    "y_pred = OHE.inverse_transform(pred_test)\n",
    "\n",
    "y_test = OHE.inverse_transform(y_test)"
   ]
  },
  {
   "cell_type": "code",
   "execution_count": 220,
   "metadata": {},
   "outputs": [
    {
     "data": {
      "text/html": [
       "<div>\n",
       "<style scoped>\n",
       "    .dataframe tbody tr th:only-of-type {\n",
       "        vertical-align: middle;\n",
       "    }\n",
       "\n",
       "    .dataframe tbody tr th {\n",
       "        vertical-align: top;\n",
       "    }\n",
       "\n",
       "    .dataframe thead th {\n",
       "        text-align: right;\n",
       "    }\n",
       "</style>\n",
       "<table border=\"1\" class=\"dataframe\">\n",
       "  <thead>\n",
       "    <tr style=\"text-align: right;\">\n",
       "      <th></th>\n",
       "      <th>Actual Labels</th>\n",
       "      <th>Predicted Labels</th>\n",
       "    </tr>\n",
       "  </thead>\n",
       "  <tbody>\n",
       "    <tr>\n",
       "      <th>854</th>\n",
       "      <td>angry</td>\n",
       "      <td>angry</td>\n",
       "    </tr>\n",
       "    <tr>\n",
       "      <th>855</th>\n",
       "      <td>surprised</td>\n",
       "      <td>surprised</td>\n",
       "    </tr>\n",
       "    <tr>\n",
       "      <th>856</th>\n",
       "      <td>disgust</td>\n",
       "      <td>disgust</td>\n",
       "    </tr>\n",
       "    <tr>\n",
       "      <th>857</th>\n",
       "      <td>surprised</td>\n",
       "      <td>surprised</td>\n",
       "    </tr>\n",
       "    <tr>\n",
       "      <th>858</th>\n",
       "      <td>disgust</td>\n",
       "      <td>disgust</td>\n",
       "    </tr>\n",
       "    <tr>\n",
       "      <th>859</th>\n",
       "      <td>calm</td>\n",
       "      <td>calm</td>\n",
       "    </tr>\n",
       "    <tr>\n",
       "      <th>860</th>\n",
       "      <td>surprised</td>\n",
       "      <td>surprised</td>\n",
       "    </tr>\n",
       "    <tr>\n",
       "      <th>861</th>\n",
       "      <td>sad</td>\n",
       "      <td>sad</td>\n",
       "    </tr>\n",
       "    <tr>\n",
       "      <th>862</th>\n",
       "      <td>sad</td>\n",
       "      <td>sad</td>\n",
       "    </tr>\n",
       "    <tr>\n",
       "      <th>863</th>\n",
       "      <td>surprised</td>\n",
       "      <td>surprised</td>\n",
       "    </tr>\n",
       "  </tbody>\n",
       "</table>\n",
       "</div>"
      ],
      "text/plain": [
       "    Actual Labels Predicted Labels\n",
       "854         angry            angry\n",
       "855     surprised        surprised\n",
       "856       disgust          disgust\n",
       "857     surprised        surprised\n",
       "858       disgust          disgust\n",
       "859          calm             calm\n",
       "860     surprised        surprised\n",
       "861           sad              sad\n",
       "862           sad              sad\n",
       "863     surprised        surprised"
      ]
     },
     "execution_count": 220,
     "metadata": {},
     "output_type": "execute_result"
    }
   ],
   "source": [
    "df = pd.DataFrame(columns=['Actual Labels','Predicted Labels'])\n",
    "df['Actual Labels'] = y_test.flatten()\n",
    "df['Predicted Labels'] = y_pred.flatten()\n",
    "\n",
    "\n",
    "df.tail(10)"
   ]
  },
  {
   "cell_type": "code",
   "execution_count": 223,
   "metadata": {},
   "outputs": [
    {
     "data": {
      "image/png": "[encoded data removed]",
      "text/plain": [
       "<Figure size 864x720 with 2 Axes>"
      ]
     },
     "metadata": {
      "needs_background": "light"
     },
     "output_type": "display_data"
    }
   ],
   "source": [
    "import seaborn as sns\n",
    "cm = confusion_matrix(y_test, y_pred)\n",
    "plt.figure(figsize = (12, 10))\n",
    "cm = pd.DataFrame(cm , index = [i for i in OHE.categories_] , columns = [i for i in OHE.categories_])\n",
    "sns.heatmap(cm, linecolor='white', cmap='Greens', linewidth=1, annot=True, fmt='')\n",
    "plt.title('Confusion Matrix', size=20)\n",
    "plt.xlabel('Predicted Labels', size=14)\n",
    "plt.ylabel('Actual Labels', size=14)\n",
    "plt.show()"
   ]
  },
  {
   "cell_type": "code",
   "execution_count": null,
   "metadata": {},
   "outputs": [],
   "source": []
  }
 ],
 "metadata": {
  "interpreter": {
   "hash": "25dd6ee6d223873db6918ba7dafc55ff354bee08d0006ede29dd28bdf8c1bd1c"
  },
  "kernelspec": {
   "display_name": "Python 3.9.5 64-bit ('base': conda)",
   "language": "python",
   "name": "python3"
  },
  "language_info": {
   "codemirror_mode": {
    "name": "ipython",
    "version": 3
   },
   "file_extension": ".py",
   "mimetype": "text/x-python",
   "name": "python",
   "nbconvert_exporter": "python",
   "pygments_lexer": "ipython3",
   "version": "3.9.5"
  },
  "orig_nbformat": 4
 },
 "nbformat": 4,
 "nbformat_minor": 2
}
