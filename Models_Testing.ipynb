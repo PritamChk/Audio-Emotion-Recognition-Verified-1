{
 "cells": [
  {
   "cell_type": "code",
   "execution_count": 3,
   "metadata": {},
   "outputs": [],
   "source": [
    "import pandas as pd\n",
    "import numpy as np\n",
    "import matplotlib.pyplot as plt\n",
    "\n",
    "import os"
   ]
  },
  {
   "cell_type": "code",
   "execution_count": 4,
   "metadata": {},
   "outputs": [],
   "source": [
    "%matplotlib inline"
   ]
  },
  {
   "cell_type": "code",
   "execution_count": 5,
   "metadata": {},
   "outputs": [
    {
     "data": {
      "text/html": [
       "<div>\n",
       "<style scoped>\n",
       "    .dataframe tbody tr th:only-of-type {\n",
       "        vertical-align: middle;\n",
       "    }\n",
       "\n",
       "    .dataframe tbody tr th {\n",
       "        vertical-align: top;\n",
       "    }\n",
       "\n",
       "    .dataframe thead th {\n",
       "        text-align: right;\n",
       "    }\n",
       "</style>\n",
       "<table border=\"1\" class=\"dataframe\">\n",
       "  <thead>\n",
       "    <tr style=\"text-align: right;\">\n",
       "      <th></th>\n",
       "      <th>0</th>\n",
       "      <th>1</th>\n",
       "      <th>2</th>\n",
       "      <th>3</th>\n",
       "      <th>4</th>\n",
       "      <th>5</th>\n",
       "      <th>6</th>\n",
       "      <th>7</th>\n",
       "      <th>8</th>\n",
       "      <th>9</th>\n",
       "      <th>...</th>\n",
       "      <th>153</th>\n",
       "      <th>154</th>\n",
       "      <th>155</th>\n",
       "      <th>156</th>\n",
       "      <th>157</th>\n",
       "      <th>158</th>\n",
       "      <th>159</th>\n",
       "      <th>160</th>\n",
       "      <th>161</th>\n",
       "      <th>labels</th>\n",
       "    </tr>\n",
       "  </thead>\n",
       "  <tbody>\n",
       "    <tr>\n",
       "      <th>0</th>\n",
       "      <td>0.279514</td>\n",
       "      <td>0.703756</td>\n",
       "      <td>0.736823</td>\n",
       "      <td>0.806092</td>\n",
       "      <td>0.782010</td>\n",
       "      <td>0.713422</td>\n",
       "      <td>0.656320</td>\n",
       "      <td>0.633494</td>\n",
       "      <td>0.670024</td>\n",
       "      <td>0.731536</td>\n",
       "      <td>...</td>\n",
       "      <td>0.000002</td>\n",
       "      <td>0.000003</td>\n",
       "      <td>0.000003</td>\n",
       "      <td>0.000003</td>\n",
       "      <td>0.000003</td>\n",
       "      <td>0.000003</td>\n",
       "      <td>0.000002</td>\n",
       "      <td>0.000001</td>\n",
       "      <td>5.983615e-08</td>\n",
       "      <td>neutral</td>\n",
       "    </tr>\n",
       "    <tr>\n",
       "      <th>1</th>\n",
       "      <td>0.287760</td>\n",
       "      <td>0.748217</td>\n",
       "      <td>0.821957</td>\n",
       "      <td>0.812205</td>\n",
       "      <td>0.735090</td>\n",
       "      <td>0.664197</td>\n",
       "      <td>0.637912</td>\n",
       "      <td>0.617599</td>\n",
       "      <td>0.715936</td>\n",
       "      <td>0.740380</td>\n",
       "      <td>...</td>\n",
       "      <td>0.000014</td>\n",
       "      <td>0.000017</td>\n",
       "      <td>0.000017</td>\n",
       "      <td>0.000017</td>\n",
       "      <td>0.000019</td>\n",
       "      <td>0.000018</td>\n",
       "      <td>0.000014</td>\n",
       "      <td>0.000005</td>\n",
       "      <td>3.123728e-07</td>\n",
       "      <td>neutral</td>\n",
       "    </tr>\n",
       "    <tr>\n",
       "      <th>2</th>\n",
       "      <td>0.277091</td>\n",
       "      <td>0.781108</td>\n",
       "      <td>0.860907</td>\n",
       "      <td>0.803445</td>\n",
       "      <td>0.767308</td>\n",
       "      <td>0.686528</td>\n",
       "      <td>0.623064</td>\n",
       "      <td>0.616170</td>\n",
       "      <td>0.673181</td>\n",
       "      <td>0.728865</td>\n",
       "      <td>...</td>\n",
       "      <td>0.000004</td>\n",
       "      <td>0.000004</td>\n",
       "      <td>0.000005</td>\n",
       "      <td>0.000005</td>\n",
       "      <td>0.000006</td>\n",
       "      <td>0.000008</td>\n",
       "      <td>0.000008</td>\n",
       "      <td>0.000003</td>\n",
       "      <td>1.024004e-07</td>\n",
       "      <td>neutral</td>\n",
       "    </tr>\n",
       "    <tr>\n",
       "      <th>3</th>\n",
       "      <td>0.326421</td>\n",
       "      <td>0.772341</td>\n",
       "      <td>0.855526</td>\n",
       "      <td>0.841515</td>\n",
       "      <td>0.820705</td>\n",
       "      <td>0.762666</td>\n",
       "      <td>0.705555</td>\n",
       "      <td>0.690831</td>\n",
       "      <td>0.707719</td>\n",
       "      <td>0.751362</td>\n",
       "      <td>...</td>\n",
       "      <td>0.000039</td>\n",
       "      <td>0.000042</td>\n",
       "      <td>0.000041</td>\n",
       "      <td>0.000044</td>\n",
       "      <td>0.000047</td>\n",
       "      <td>0.000047</td>\n",
       "      <td>0.000038</td>\n",
       "      <td>0.000013</td>\n",
       "      <td>8.357285e-07</td>\n",
       "      <td>neutral</td>\n",
       "    </tr>\n",
       "  </tbody>\n",
       "</table>\n",
       "<p>4 rows × 163 columns</p>\n",
       "</div>"
      ],
      "text/plain": [
       "          0         1         2         3         4         5         6  \\\n",
       "0  0.279514  0.703756  0.736823  0.806092  0.782010  0.713422  0.656320   \n",
       "1  0.287760  0.748217  0.821957  0.812205  0.735090  0.664197  0.637912   \n",
       "2  0.277091  0.781108  0.860907  0.803445  0.767308  0.686528  0.623064   \n",
       "3  0.326421  0.772341  0.855526  0.841515  0.820705  0.762666  0.705555   \n",
       "\n",
       "          7         8         9  ...       153       154       155       156  \\\n",
       "0  0.633494  0.670024  0.731536  ...  0.000002  0.000003  0.000003  0.000003   \n",
       "1  0.617599  0.715936  0.740380  ...  0.000014  0.000017  0.000017  0.000017   \n",
       "2  0.616170  0.673181  0.728865  ...  0.000004  0.000004  0.000005  0.000005   \n",
       "3  0.690831  0.707719  0.751362  ...  0.000039  0.000042  0.000041  0.000044   \n",
       "\n",
       "        157       158       159       160           161   labels  \n",
       "0  0.000003  0.000003  0.000002  0.000001  5.983615e-08  neutral  \n",
       "1  0.000019  0.000018  0.000014  0.000005  3.123728e-07  neutral  \n",
       "2  0.000006  0.000008  0.000008  0.000003  1.024004e-07  neutral  \n",
       "3  0.000047  0.000047  0.000038  0.000013  8.357285e-07  neutral  \n",
       "\n",
       "[4 rows x 163 columns]"
      ]
     },
     "execution_count": 5,
     "metadata": {},
     "output_type": "execute_result"
    }
   ],
   "source": [
    "feature_file= os.path.abspath('features_NORG.csv')\n",
    "feature_df = pd.read_csv(feature_file,index_col=False)\n",
    "feature_df.head(4)"
   ]
  },
  {
   "cell_type": "code",
   "execution_count": 6,
   "metadata": {},
   "outputs": [
    {
     "data": {
      "text/plain": [
       "(array([[2.79513889e-01, 7.03756313e-01, 7.36823361e-01, ...,\n",
       "         2.47309882e-06, 1.09128795e-06, 5.98361512e-08],\n",
       "        [2.87760417e-01, 7.48216598e-01, 8.21957068e-01, ...,\n",
       "         1.35066299e-05, 4.73744792e-06, 3.12372779e-07],\n",
       "        [2.77090567e-01, 7.81108419e-01, 8.60906722e-01, ...,\n",
       "         8.40919185e-06, 3.07295710e-06, 1.02400419e-07],\n",
       "        ...,\n",
       "        [2.09968171e-01, 6.55012106e-01, 7.10416982e-01, ...,\n",
       "         7.14321749e-05, 3.26904090e-05, 2.47032433e-06],\n",
       "        [3.01945891e-01, 6.69872168e-01, 6.64390940e-01, ...,\n",
       "         1.48608312e-03, 4.03538120e-04, 3.17646428e-05],\n",
       "        [2.89492911e-01, 7.00357582e-01, 6.78360979e-01, ...,\n",
       "         5.37185735e-04, 1.83013655e-04, 1.11069563e-05]]),\n",
       " array(['neutral', 'neutral', 'neutral', ..., 'surprised', 'surprised',\n",
       "        'surprised'], dtype=object))"
      ]
     },
     "execution_count": 6,
     "metadata": {},
     "output_type": "execute_result"
    }
   ],
   "source": [
    "X = feature_df.iloc[: ,:-1].values\n",
    "Y = feature_df['labels'].values\n",
    "X,Y"
   ]
  },
  {
   "cell_type": "code",
   "execution_count": 7,
   "metadata": {},
   "outputs": [],
   "source": [
    "from sklearn.preprocessing import StandardScaler, OneHotEncoder,LabelEncoder\n",
    "from sklearn.metrics import confusion_matrix, classification_report\n",
    "from sklearn.model_selection import train_test_split\n",
    "import sys\n",
    "\n",
    "import warnings\n",
    "if not sys.warnoptions:\n",
    "    warnings.simplefilter(\"ignore\")\n",
    "warnings.filterwarnings(\"ignore\", category=DeprecationWarning)"
   ]
  },
  {
   "cell_type": "code",
   "execution_count": 8,
   "metadata": {},
   "outputs": [
    {
     "data": {
      "text/plain": [
       "((1440, 162), (1440,))"
      ]
     },
     "execution_count": 8,
     "metadata": {},
     "output_type": "execute_result"
    }
   ],
   "source": [
    "X.shape,Y.shape"
   ]
  },
  {
   "cell_type": "code",
   "execution_count": 9,
   "metadata": {},
   "outputs": [],
   "source": [
    "OHE = OneHotEncoder()\n",
    "Scaler = StandardScaler()\n",
    "Y = OHE.fit_transform(Y.reshape(-1,1)).toarray()\n",
    "X = Scaler.fit_transform(X)"
   ]
  },
  {
   "cell_type": "code",
   "execution_count": 10,
   "metadata": {},
   "outputs": [
    {
     "data": {
      "text/plain": [
       "(array([[[ 0.823544  ],\n",
       "         [ 0.4866303 ],\n",
       "         [ 0.7864489 ],\n",
       "         ...,\n",
       "         [-0.37586158],\n",
       "         [-0.37585281],\n",
       "         [-0.37453239]],\n",
       " \n",
       "        [[ 1.03818771],\n",
       "         [ 1.09555119],\n",
       "         [ 1.82215654],\n",
       "         ...,\n",
       "         [-0.36679221],\n",
       "         [-0.36677749],\n",
       "         [-0.36545267]],\n",
       " \n",
       "        [[ 0.76046887],\n",
       "         [ 1.54603227],\n",
       "         [ 2.29600475],\n",
       "         ...,\n",
       "         [-0.37098222],\n",
       "         [-0.37092042],\n",
       "         [-0.37300203]],\n",
       " \n",
       "        ...,\n",
       " \n",
       "        [[-0.98661796],\n",
       "         [-0.18096249],\n",
       "         [ 0.46519789],\n",
       "         ...,\n",
       "         [-0.31917845],\n",
       "         [-0.29720242],\n",
       "         [-0.28786553]],\n",
       " \n",
       "        [[ 1.40741254],\n",
       "         [ 0.02255852],\n",
       "         [-0.09473924],\n",
       "         ...,\n",
       "         [ 0.8436395 ],\n",
       "         [ 0.6258396 ],\n",
       "         [ 0.76538434]],\n",
       " \n",
       "        [[ 1.08328171],\n",
       "         [ 0.44008183],\n",
       "         [ 0.0752155 ],\n",
       "         ...,\n",
       "         [ 0.06366271],\n",
       "         [ 0.07695298],\n",
       "         [ 0.02265651]]]),\n",
       " array([[0., 0., 0., ..., 1., 0., 0.],\n",
       "        [0., 0., 0., ..., 1., 0., 0.],\n",
       "        [0., 0., 0., ..., 1., 0., 0.],\n",
       "        ...,\n",
       "        [0., 0., 0., ..., 0., 0., 1.],\n",
       "        [0., 0., 0., ..., 0., 0., 1.],\n",
       "        [0., 0., 0., ..., 0., 0., 1.]]))"
      ]
     },
     "execution_count": 10,
     "metadata": {},
     "output_type": "execute_result"
    }
   ],
   "source": [
    "# making our data compatible to model.\n",
    "x_test = np.expand_dims(X, axis=2)\n",
    "\n",
    "x_test, Y"
   ]
  },
  {
   "cell_type": "code",
   "execution_count": 11,
   "metadata": {},
   "outputs": [],
   "source": [
    "from tensorflow.keras.models import load_model"
   ]
  },
  {
   "cell_type": "code",
   "execution_count": 12,
   "metadata": {},
   "outputs": [],
   "source": [
    "model_1_path = os.path.abspath(os.path.join('Models','Model_osp_3_83.h5'))\n",
    "model_2_path = os.path.abspath(os.path.join('Models','Model_osp_4_84.25.h5'))\n",
    "model_3_path = os.path.abspath(os.path.join('Models','Model_osp_5_85_18.h5'))"
   ]
  },
  {
   "cell_type": "code",
   "execution_count": 14,
   "metadata": {},
   "outputs": [],
   "source": [
    "model_1 = load_model(model_1_path,compile=True)\n",
    "model_2 = load_model(model_2_path,compile=True)\n",
    "model_3 = load_model(model_3_path,compile=True)\n"
   ]
  },
  {
   "cell_type": "markdown",
   "metadata": {},
   "source": [
    "---\n",
    "# Model 1 Test on NORG Audio Dataset\n",
    "---"
   ]
  },
  {
   "cell_type": "code",
   "execution_count": 18,
   "metadata": {},
   "outputs": [
    {
     "name": "stdout",
     "output_type": "stream",
     "text": [
      "45/45 [==============================] - 1s 11ms/step - loss: 1.4143 - accuracy: 0.6319\n",
      "Accuracy of our model on test data :  63.19444179534912 %\n",
      "45/45 [==============================] - 0s 1ms/step - loss: 1.6352 - accuracy: 0.6097\n",
      "Accuracy of our model on test data :  60.972219705581665 %\n",
      "45/45 [==============================] - 0s 5ms/step - loss: 1.3796 - accuracy: 0.6313\n",
      "Accuracy of our model on test data :  63.12500238418579 %\n"
     ]
    }
   ],
   "source": [
    "print(\"Accuracy of our model on test data : \" , model_1.evaluate(x_test,Y)[1]*100 , \"%\")\n",
    "print(\"Accuracy of our model on test data : \" , model_2.evaluate(x_test,Y)[1]*100 , \"%\")\n",
    "print(\"Accuracy of our model on test data : \" , model_3.evaluate(x_test,Y)[1]*100 , \"%\")"
   ]
  },
  {
   "cell_type": "code",
   "execution_count": 23,
   "metadata": {},
   "outputs": [
    {
     "name": "stdout",
     "output_type": "stream",
     "text": [
      "-------------------------------------\n",
      "Model Name : Model_1.h5\n",
      "45/45 [==============================] - 1s 9ms/step - loss: 1.9010 - accuracy: 0.5910\n",
      "Accuracy of our model on test data :  59.10 %\n",
      "-------------------------------------\n",
      "\n",
      "-------------------------------------\n",
      "Model Name : Model_2.h5\n",
      "45/45 [==============================] - 1s 7ms/step - loss: 1.4559 - accuracy: 0.5250\n",
      "Accuracy of our model on test data :  52.50 %\n",
      "-------------------------------------\n",
      "\n",
      "-------------------------------------\n",
      "Model Name : Model_3.h5\n",
      "45/45 [==============================] - 0s 4ms/step - loss: 1.9663 - accuracy: 0.5444\n",
      "Accuracy of our model on test data :  54.44 %\n",
      "-------------------------------------\n",
      "\n",
      "-------------------------------------\n",
      "Model Name : Model_osp.h5\n",
      "45/45 [==============================] - 0s 6ms/step - loss: 1.3687 - accuracy: 0.5597\n",
      "Accuracy of our model on test data :  55.97 %\n",
      "-------------------------------------\n",
      "\n",
      "-------------------------------------\n",
      "Model Name : Model_osp_2_77.h5\n",
      "45/45 [==============================] - 0s 5ms/step - loss: 1.4319 - accuracy: 0.6042\n",
      "Accuracy of our model on test data :  60.42 %\n",
      "-------------------------------------\n",
      "\n",
      "-------------------------------------\n",
      "Model Name : Model_osp_3_83.h5\n",
      "45/45 [==============================] - 0s 4ms/step - loss: 1.4143 - accuracy: 0.6319\n",
      "Accuracy of our model on test data :  63.19 %\n",
      "-------------------------------------\n",
      "\n",
      "-------------------------------------\n",
      "Model Name : Model_osp_4_84.25.h5\n",
      "45/45 [==============================] - 0s 2ms/step - loss: 1.6352 - accuracy: 0.6097\n",
      "Accuracy of our model on test data :  60.97 %\n",
      "-------------------------------------\n",
      "\n",
      "-------------------------------------\n",
      "Model Name : Model_osp_5_85_18.h5\n",
      "45/45 [==============================] - 0s 5ms/step - loss: 1.3796 - accuracy: 0.6313\n",
      "Accuracy of our model on test data :  63.13 %\n",
      "-------------------------------------\n",
      "\n"
     ]
    }
   ],
   "source": [
    "model_path = 'Models'\n",
    "for m in os.listdir(model_path):\n",
    "    model_no_path = os.path.abspath(os.path.join(model_path,m))\n",
    "    model = load_model(model_no_path)\n",
    "    print(\"-------------------------------------\")\n",
    "    print(f\"Model Name : {m}\")\n",
    "    print(f\"Accuracy of our model on test data :  {model.evaluate(x_test,Y)[1]*100 :.2f} %\")\n",
    "    print(\"-------------------------------------\")\n",
    "    print()"
   ]
  },
  {
   "cell_type": "code",
   "execution_count": null,
   "metadata": {},
   "outputs": [],
   "source": []
  }
 ],
 "metadata": {
  "interpreter": {
   "hash": "25dd6ee6d223873db6918ba7dafc55ff354bee08d0006ede29dd28bdf8c1bd1c"
  },
  "kernelspec": {
   "display_name": "Python 3.9.5 64-bit ('base': conda)",
   "language": "python",
   "name": "python3"
  },
  "language_info": {
   "codemirror_mode": {
    "name": "ipython",
    "version": 3
   },
   "file_extension": ".py",
   "mimetype": "text/x-python",
   "name": "python",
   "nbconvert_exporter": "python",
   "pygments_lexer": "ipython3",
   "version": "3.9.5"
  },
  "orig_nbformat": 4
 },
 "nbformat": 4,
 "nbformat_minor": 2
}
